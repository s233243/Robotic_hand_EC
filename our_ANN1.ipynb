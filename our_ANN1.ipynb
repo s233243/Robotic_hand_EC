{
 "cells": [
  {
   "cell_type": "markdown",
   "metadata": {
    "papermill": {
     "duration": 0.019666,
     "end_time": "2020-11-22T20:36:08.917693",
     "exception": false,
     "start_time": "2020-11-22T20:36:08.898027",
     "status": "completed"
    },
    "tags": []
   },
   "source": [
    "# Task for Today  \n",
    "\n",
    "***\n",
    "\n",
    "## Hand Gesture Classification  \n",
    "\n",
    "Given *tabular data about four hand gestures*, let's try to classify the **gesture** of a given example.\n",
    "\n",
    "We will use a TensorFlow ANN to make our predictions."
   ]
  },
  {
   "cell_type": "markdown",
   "metadata": {
    "papermill": {
     "duration": 0.017015,
     "end_time": "2020-11-22T20:36:08.951150",
     "exception": false,
     "start_time": "2020-11-22T20:36:08.934135",
     "status": "completed"
    },
    "tags": []
   },
   "source": [
    "# Getting Started"
   ]
  },
  {
   "cell_type": "code",
   "execution_count": 72,
   "metadata": {
    "_cell_guid": "79c7e3d0-c299-4dcb-8224-4455121ee9b0",
    "_uuid": "d629ff2d2480ee46fbb7e2d37f6b5fab8052498a",
    "execution": {
     "iopub.execute_input": "2020-11-22T20:36:08.991239Z",
     "iopub.status.busy": "2020-11-22T20:36:08.990414Z",
     "iopub.status.idle": "2020-11-22T20:36:15.750665Z",
     "shell.execute_reply": "2020-11-22T20:36:15.749920Z"
    },
    "papermill": {
     "duration": 6.783271,
     "end_time": "2020-11-22T20:36:15.750825",
     "exception": false,
     "start_time": "2020-11-22T20:36:08.967554",
     "status": "completed"
    },
    "tags": []
   },
   "outputs": [],
   "source": [
    "import numpy as np\n",
    "import pandas as pd\n",
    "import matplotlib.pyplot as plt\n",
    "import seaborn as sns\n",
    "from sklearn.metrics import accuracy_score\n",
    "\n",
    "from sklearn.preprocessing import StandardScaler\n",
    "from sklearn.model_selection import train_test_split\n",
    "\n",
    "import tensorflow as tf\n",
    "\n",
    "from sklearn.metrics import classification_report, confusion_matrix"
   ]
  },
  {
   "cell_type": "code",
   "execution_count": 73,
   "metadata": {
    "execution": {
     "iopub.execute_input": "2020-11-22T20:36:16.076700Z",
     "iopub.status.busy": "2020-11-22T20:36:16.075460Z",
     "iopub.status.idle": "2020-11-22T20:36:16.089781Z",
     "shell.execute_reply": "2020-11-22T20:36:16.088994Z"
    },
    "papermill": {
     "duration": 0.039971,
     "end_time": "2020-11-22T20:36:16.089938",
     "exception": false,
     "start_time": "2020-11-22T20:36:16.049967",
     "status": "completed"
    },
    "tags": []
   },
   "outputs": [],
   "source": [
    "# import the dataset to train and evaluate the model\n",
    "dfs = [] #for PCA features\n",
    "dfs.append(pd.read_csv(r\"our_input_30/global_pca4.csv\"))\n",
    "# dfs.append(pd.read_csv(r\"our_input_subject2/global_pca3.csv\"))\n",
    "for df in dfs:\n",
    "    df.columns = list(range(len(df.columns)))\n",
    "data= pd.concat([df for df in dfs], axis=0).reset_index(drop=True) "
   ]
  },
  {
   "cell_type": "code",
   "execution_count": 74,
   "metadata": {
    "execution": {
     "iopub.execute_input": "2020-11-22T20:36:16.134168Z",
     "iopub.status.busy": "2020-11-22T20:36:16.133376Z",
     "iopub.status.idle": "2020-11-22T20:36:16.181322Z",
     "shell.execute_reply": "2020-11-22T20:36:16.181927Z"
    },
    "papermill": {
     "duration": 0.075097,
     "end_time": "2020-11-22T20:36:16.182080",
     "exception": false,
     "start_time": "2020-11-22T20:36:16.106983",
     "status": "completed"
    },
    "tags": []
   },
   "outputs": [],
   "source": [
    "# import the new dataset we want to apply the classifier on\n",
    "df_mix=[]\n",
    "df_mix.append(pd.read_csv(r\"our_input_30/mix_pca4.csv\",header=None))\n",
    "for dfs in df_mix:\n",
    "    dfs.columns = list(range(len(dfs.columns)))\n",
    "df_mix= pd.concat(df_mix, axis=0).reset_index(drop=True)"
   ]
  },
  {
   "cell_type": "markdown",
   "metadata": {
    "papermill": {
     "duration": 0.018333,
     "end_time": "2020-11-22T20:36:16.268902",
     "exception": false,
     "start_time": "2020-11-22T20:36:16.250569",
     "status": "completed"
    },
    "tags": []
   },
   "source": [
    "# Splitting/Scaling"
   ]
  },
  {
   "cell_type": "code",
   "execution_count": 75,
   "metadata": {
    "execution": {
     "iopub.execute_input": "2020-11-22T20:36:16.316191Z",
     "iopub.status.busy": "2020-11-22T20:36:16.315287Z",
     "iopub.status.idle": "2020-11-22T20:36:16.324149Z",
     "shell.execute_reply": "2020-11-22T20:36:16.323489Z"
    },
    "papermill": {
     "duration": 0.036554,
     "end_time": "2020-11-22T20:36:16.324284",
     "exception": false,
     "start_time": "2020-11-22T20:36:16.287730",
     "status": "completed"
    },
    "tags": []
   },
   "outputs": [],
   "source": [
    "# extraction for features 3PC\n",
    "X = df.drop(4,axis=1)\n",
    "y = df.iloc[:, 4]              # output required\n",
    "\n",
    "#extraction for mixed serie\n",
    "X_mix = df_mix.drop(4,axis=1)\n",
    "y_mix = df_mix.iloc[:, 4]              # output required"
   ]
  },
  {
   "cell_type": "code",
   "execution_count": 76,
   "metadata": {},
   "outputs": [
    {
     "data": {
      "text/html": [
       "<div>\n",
       "<style scoped>\n",
       "    .dataframe tbody tr th:only-of-type {\n",
       "        vertical-align: middle;\n",
       "    }\n",
       "\n",
       "    .dataframe tbody tr th {\n",
       "        vertical-align: top;\n",
       "    }\n",
       "\n",
       "    .dataframe thead th {\n",
       "        text-align: right;\n",
       "    }\n",
       "</style>\n",
       "<table border=\"1\" class=\"dataframe\">\n",
       "  <thead>\n",
       "    <tr style=\"text-align: right;\">\n",
       "      <th></th>\n",
       "      <th>0</th>\n",
       "      <th>1</th>\n",
       "      <th>2</th>\n",
       "      <th>3</th>\n",
       "    </tr>\n",
       "  </thead>\n",
       "  <tbody>\n",
       "    <tr>\n",
       "      <th>0</th>\n",
       "      <td>2.915820</td>\n",
       "      <td>-0.113688</td>\n",
       "      <td>0.192317</td>\n",
       "      <td>-0.516375</td>\n",
       "    </tr>\n",
       "    <tr>\n",
       "      <th>1</th>\n",
       "      <td>0.378810</td>\n",
       "      <td>1.743823</td>\n",
       "      <td>-1.402737</td>\n",
       "      <td>-0.705157</td>\n",
       "    </tr>\n",
       "    <tr>\n",
       "      <th>2</th>\n",
       "      <td>4.807794</td>\n",
       "      <td>-0.453074</td>\n",
       "      <td>0.803735</td>\n",
       "      <td>-0.038461</td>\n",
       "    </tr>\n",
       "    <tr>\n",
       "      <th>3</th>\n",
       "      <td>4.861231</td>\n",
       "      <td>0.699904</td>\n",
       "      <td>-0.108950</td>\n",
       "      <td>-0.013451</td>\n",
       "    </tr>\n",
       "    <tr>\n",
       "      <th>4</th>\n",
       "      <td>6.322312</td>\n",
       "      <td>0.452986</td>\n",
       "      <td>0.272581</td>\n",
       "      <td>0.513936</td>\n",
       "    </tr>\n",
       "    <tr>\n",
       "      <th>...</th>\n",
       "      <td>...</td>\n",
       "      <td>...</td>\n",
       "      <td>...</td>\n",
       "      <td>...</td>\n",
       "    </tr>\n",
       "    <tr>\n",
       "      <th>56</th>\n",
       "      <td>-2.777546</td>\n",
       "      <td>-0.322470</td>\n",
       "      <td>-0.368047</td>\n",
       "      <td>0.265345</td>\n",
       "    </tr>\n",
       "    <tr>\n",
       "      <th>57</th>\n",
       "      <td>-2.227357</td>\n",
       "      <td>-3.057324</td>\n",
       "      <td>1.891228</td>\n",
       "      <td>-0.195134</td>\n",
       "    </tr>\n",
       "    <tr>\n",
       "      <th>58</th>\n",
       "      <td>-2.397243</td>\n",
       "      <td>-1.703441</td>\n",
       "      <td>0.617682</td>\n",
       "      <td>0.102284</td>\n",
       "    </tr>\n",
       "    <tr>\n",
       "      <th>59</th>\n",
       "      <td>-3.163255</td>\n",
       "      <td>-0.862256</td>\n",
       "      <td>-0.106470</td>\n",
       "      <td>0.265147</td>\n",
       "    </tr>\n",
       "    <tr>\n",
       "      <th>60</th>\n",
       "      <td>-3.363497</td>\n",
       "      <td>-0.673570</td>\n",
       "      <td>-0.209498</td>\n",
       "      <td>0.291515</td>\n",
       "    </tr>\n",
       "  </tbody>\n",
       "</table>\n",
       "<p>61 rows × 4 columns</p>\n",
       "</div>"
      ],
      "text/plain": [
       "           0         1         2         3\n",
       "0   2.915820 -0.113688  0.192317 -0.516375\n",
       "1   0.378810  1.743823 -1.402737 -0.705157\n",
       "2   4.807794 -0.453074  0.803735 -0.038461\n",
       "3   4.861231  0.699904 -0.108950 -0.013451\n",
       "4   6.322312  0.452986  0.272581  0.513936\n",
       "..       ...       ...       ...       ...\n",
       "56 -2.777546 -0.322470 -0.368047  0.265345\n",
       "57 -2.227357 -3.057324  1.891228 -0.195134\n",
       "58 -2.397243 -1.703441  0.617682  0.102284\n",
       "59 -3.163255 -0.862256 -0.106470  0.265147\n",
       "60 -3.363497 -0.673570 -0.209498  0.291515\n",
       "\n",
       "[61 rows x 4 columns]"
      ]
     },
     "execution_count": 76,
     "metadata": {},
     "output_type": "execute_result"
    }
   ],
   "source": [
    "X"
   ]
  },
  {
   "cell_type": "code",
   "execution_count": 77,
   "metadata": {},
   "outputs": [
    {
     "data": {
      "text/plain": [
       "0     0.0\n",
       "1     0.0\n",
       "2     0.0\n",
       "3     0.0\n",
       "4     0.0\n",
       "     ... \n",
       "56    1.0\n",
       "57    1.0\n",
       "58    1.0\n",
       "59    1.0\n",
       "60    1.0\n",
       "Name: 4, Length: 61, dtype: float64"
      ]
     },
     "execution_count": 77,
     "metadata": {},
     "output_type": "execute_result"
    }
   ],
   "source": [
    "y"
   ]
  },
  {
   "cell_type": "code",
   "execution_count": 78,
   "metadata": {
    "execution": {
     "iopub.execute_input": "2020-11-22T20:36:16.372530Z",
     "iopub.status.busy": "2020-11-22T20:36:16.370991Z",
     "iopub.status.idle": "2020-11-22T20:36:16.392926Z",
     "shell.execute_reply": "2020-11-22T20:36:16.393482Z"
    },
    "papermill": {
     "duration": 0.050524,
     "end_time": "2020-11-22T20:36:16.393660",
     "exception": false,
     "start_time": "2020-11-22T20:36:16.343136",
     "status": "completed"
    },
    "tags": []
   },
   "outputs": [],
   "source": [
    "scaler = StandardScaler()\n",
    "X = scaler.fit_transform(X)\n",
    "X_mix = scaler.fit_transform(X_mix)"
   ]
  },
  {
   "cell_type": "code",
   "execution_count": 79,
   "metadata": {
    "execution": {
     "iopub.execute_input": "2020-11-22T20:36:16.438602Z",
     "iopub.status.busy": "2020-11-22T20:36:16.437798Z",
     "iopub.status.idle": "2020-11-22T20:36:16.447306Z",
     "shell.execute_reply": "2020-11-22T20:36:16.446646Z"
    },
    "papermill": {
     "duration": 0.034673,
     "end_time": "2020-11-22T20:36:16.447452",
     "exception": false,
     "start_time": "2020-11-22T20:36:16.412779",
     "status": "completed"
    },
    "tags": []
   },
   "outputs": [],
   "source": [
    "X_train, X_test, y_train, y_test = train_test_split(X, y, train_size=0.8, random_state=100)"
   ]
  },
  {
   "cell_type": "markdown",
   "metadata": {
    "papermill": {
     "duration": 0.018943,
     "end_time": "2020-11-22T20:36:16.485658",
     "exception": false,
     "start_time": "2020-11-22T20:36:16.466715",
     "status": "completed"
    },
    "tags": []
   },
   "source": [
    "# Training"
   ]
  },
  {
   "cell_type": "code",
   "execution_count": 80,
   "metadata": {
    "execution": {
     "iopub.execute_input": "2020-11-22T20:36:16.589135Z",
     "iopub.status.busy": "2020-11-22T20:36:16.588256Z",
     "iopub.status.idle": "2020-11-22T20:38:22.066290Z",
     "shell.execute_reply": "2020-11-22T20:38:22.065347Z"
    },
    "papermill": {
     "duration": 125.512053,
     "end_time": "2020-11-22T20:38:22.066459",
     "exception": false,
     "start_time": "2020-11-22T20:36:16.554406",
     "status": "completed"
    },
    "tags": []
   },
   "outputs": [
    {
     "name": "stdout",
     "output_type": "stream",
     "text": [
      "Epoch 1/50\n",
      "\u001b[1m2/2\u001b[0m \u001b[32m━━━━━━━━━━━━━━━━━━━━\u001b[0m\u001b[37m\u001b[0m \u001b[1m6s\u001b[0m 796ms/step - accuracy: 0.0202 - loss: 1.9923 - val_accuracy: 1.0000 - val_loss: 1.3582 - learning_rate: 0.0010\n",
      "Epoch 2/50\n",
      "\u001b[1m2/2\u001b[0m \u001b[32m━━━━━━━━━━━━━━━━━━━━\u001b[0m\u001b[37m\u001b[0m \u001b[1m0s\u001b[0m 89ms/step - accuracy: 1.0000 - loss: 1.2506 - val_accuracy: 1.0000 - val_loss: 0.8775 - learning_rate: 0.0010\n",
      "Epoch 3/50\n",
      "\u001b[1m2/2\u001b[0m \u001b[32m━━━━━━━━━━━━━━━━━━━━\u001b[0m\u001b[37m\u001b[0m \u001b[1m0s\u001b[0m 89ms/step - accuracy: 1.0000 - loss: 0.7670 - val_accuracy: 1.0000 - val_loss: 0.4996 - learning_rate: 0.0010\n",
      "Epoch 4/50\n",
      "\u001b[1m2/2\u001b[0m \u001b[32m━━━━━━━━━━━━━━━━━━━━\u001b[0m\u001b[37m\u001b[0m \u001b[1m0s\u001b[0m 84ms/step - accuracy: 1.0000 - loss: 0.4216 - val_accuracy: 1.0000 - val_loss: 0.2557 - learning_rate: 0.0010\n",
      "Epoch 5/50\n",
      "\u001b[1m2/2\u001b[0m \u001b[32m━━━━━━━━━━━━━━━━━━━━\u001b[0m\u001b[37m\u001b[0m \u001b[1m0s\u001b[0m 101ms/step - accuracy: 1.0000 - loss: 0.2139 - val_accuracy: 1.0000 - val_loss: 0.1253 - learning_rate: 0.0010\n",
      "Epoch 6/50\n",
      "\u001b[1m2/2\u001b[0m \u001b[32m━━━━━━━━━━━━━━━━━━━━\u001b[0m\u001b[37m\u001b[0m \u001b[1m0s\u001b[0m 129ms/step - accuracy: 1.0000 - loss: 0.1073 - val_accuracy: 1.0000 - val_loss: 0.0607 - learning_rate: 0.0010\n",
      "Epoch 7/50\n",
      "\u001b[1m2/2\u001b[0m \u001b[32m━━━━━━━━━━━━━━━━━━━━\u001b[0m\u001b[37m\u001b[0m \u001b[1m0s\u001b[0m 173ms/step - accuracy: 1.0000 - loss: 0.0559 - val_accuracy: 1.0000 - val_loss: 0.0292 - learning_rate: 0.0010\n",
      "Epoch 8/50\n",
      "\u001b[1m2/2\u001b[0m \u001b[32m━━━━━━━━━━━━━━━━━━━━\u001b[0m\u001b[37m\u001b[0m \u001b[1m0s\u001b[0m 147ms/step - accuracy: 1.0000 - loss: 0.0272 - val_accuracy: 1.0000 - val_loss: 0.0155 - learning_rate: 0.0010\n",
      "Epoch 9/50\n",
      "\u001b[1m2/2\u001b[0m \u001b[32m━━━━━━━━━━━━━━━━━━━━\u001b[0m\u001b[37m\u001b[0m \u001b[1m0s\u001b[0m 86ms/step - accuracy: 1.0000 - loss: 0.0180 - val_accuracy: 1.0000 - val_loss: 0.0093 - learning_rate: 0.0010\n",
      "Epoch 10/50\n",
      "\u001b[1m2/2\u001b[0m \u001b[32m━━━━━━━━━━━━━━━━━━━━\u001b[0m\u001b[37m\u001b[0m \u001b[1m0s\u001b[0m 176ms/step - accuracy: 1.0000 - loss: 0.0119 - val_accuracy: 1.0000 - val_loss: 0.0060 - learning_rate: 0.0010\n",
      "Epoch 11/50\n",
      "\u001b[1m2/2\u001b[0m \u001b[32m━━━━━━━━━━━━━━━━━━━━\u001b[0m\u001b[37m\u001b[0m \u001b[1m0s\u001b[0m 188ms/step - accuracy: 1.0000 - loss: 0.0083 - val_accuracy: 1.0000 - val_loss: 0.0042 - learning_rate: 0.0010\n",
      "Epoch 12/50\n",
      "\u001b[1m2/2\u001b[0m \u001b[32m━━━━━━━━━━━━━━━━━━━━\u001b[0m\u001b[37m\u001b[0m \u001b[1m0s\u001b[0m 161ms/step - accuracy: 1.0000 - loss: 0.0046 - val_accuracy: 1.0000 - val_loss: 0.0031 - learning_rate: 0.0010\n",
      "Epoch 13/50\n",
      "\u001b[1m2/2\u001b[0m \u001b[32m━━━━━━━━━━━━━━━━━━━━\u001b[0m\u001b[37m\u001b[0m \u001b[1m0s\u001b[0m 185ms/step - accuracy: 1.0000 - loss: 0.0034 - val_accuracy: 1.0000 - val_loss: 0.0024 - learning_rate: 0.0010\n",
      "Epoch 14/50\n",
      "\u001b[1m2/2\u001b[0m \u001b[32m━━━━━━━━━━━━━━━━━━━━\u001b[0m\u001b[37m\u001b[0m \u001b[1m0s\u001b[0m 172ms/step - accuracy: 1.0000 - loss: 0.0026 - val_accuracy: 1.0000 - val_loss: 0.0019 - learning_rate: 0.0010\n",
      "Epoch 15/50\n",
      "\u001b[1m2/2\u001b[0m \u001b[32m━━━━━━━━━━━━━━━━━━━━\u001b[0m\u001b[37m\u001b[0m \u001b[1m0s\u001b[0m 204ms/step - accuracy: 1.0000 - loss: 0.0021 - val_accuracy: 1.0000 - val_loss: 0.0016 - learning_rate: 0.0010\n",
      "Epoch 16/50\n",
      "\u001b[1m2/2\u001b[0m \u001b[32m━━━━━━━━━━━━━━━━━━━━\u001b[0m\u001b[37m\u001b[0m \u001b[1m0s\u001b[0m 170ms/step - accuracy: 1.0000 - loss: 0.0020 - val_accuracy: 1.0000 - val_loss: 0.0014 - learning_rate: 0.0010\n",
      "Epoch 17/50\n",
      "\u001b[1m2/2\u001b[0m \u001b[32m━━━━━━━━━━━━━━━━━━━━\u001b[0m\u001b[37m\u001b[0m \u001b[1m0s\u001b[0m 199ms/step - accuracy: 1.0000 - loss: 0.0016 - val_accuracy: 1.0000 - val_loss: 0.0013 - learning_rate: 0.0010\n",
      "Epoch 18/50\n",
      "\u001b[1m2/2\u001b[0m \u001b[32m━━━━━━━━━━━━━━━━━━━━\u001b[0m\u001b[37m\u001b[0m \u001b[1m0s\u001b[0m 177ms/step - accuracy: 1.0000 - loss: 0.0012 - val_accuracy: 1.0000 - val_loss: 0.0012 - learning_rate: 0.0010\n",
      "Epoch 19/50\n",
      "\u001b[1m2/2\u001b[0m \u001b[32m━━━━━━━━━━━━━━━━━━━━\u001b[0m\u001b[37m\u001b[0m \u001b[1m0s\u001b[0m 177ms/step - accuracy: 1.0000 - loss: 0.0011 - val_accuracy: 1.0000 - val_loss: 0.0011 - learning_rate: 0.0010\n",
      "Epoch 20/50\n",
      "\u001b[1m2/2\u001b[0m \u001b[32m━━━━━━━━━━━━━━━━━━━━\u001b[0m\u001b[37m\u001b[0m \u001b[1m0s\u001b[0m 167ms/step - accuracy: 1.0000 - loss: 6.9125e-04 - val_accuracy: 1.0000 - val_loss: 0.0010 - learning_rate: 0.0010\n",
      "Epoch 21/50\n",
      "\u001b[1m2/2\u001b[0m \u001b[32m━━━━━━━━━━━━━━━━━━━━\u001b[0m\u001b[37m\u001b[0m \u001b[1m0s\u001b[0m 184ms/step - accuracy: 1.0000 - loss: 0.0011 - val_accuracy: 1.0000 - val_loss: 9.5509e-04 - learning_rate: 0.0010\n",
      "Epoch 22/50\n",
      "\u001b[1m2/2\u001b[0m \u001b[32m━━━━━━━━━━━━━━━━━━━━\u001b[0m\u001b[37m\u001b[0m \u001b[1m0s\u001b[0m 158ms/step - accuracy: 1.0000 - loss: 6.9483e-04 - val_accuracy: 1.0000 - val_loss: 9.1743e-04 - learning_rate: 0.0010\n",
      "Epoch 23/50\n",
      "\u001b[1m2/2\u001b[0m \u001b[32m━━━━━━━━━━━━━━━━━━━━\u001b[0m\u001b[37m\u001b[0m \u001b[1m0s\u001b[0m 172ms/step - accuracy: 1.0000 - loss: 8.2480e-04 - val_accuracy: 1.0000 - val_loss: 8.8836e-04 - learning_rate: 0.0010\n",
      "Epoch 24/50\n",
      "\u001b[1m2/2\u001b[0m \u001b[32m━━━━━━━━━━━━━━━━━━━━\u001b[0m\u001b[37m\u001b[0m \u001b[1m0s\u001b[0m 175ms/step - accuracy: 1.0000 - loss: 5.9491e-04 - val_accuracy: 1.0000 - val_loss: 8.6625e-04 - learning_rate: 0.0010\n",
      "Epoch 25/50\n",
      "\u001b[1m2/2\u001b[0m \u001b[32m━━━━━━━━━━━━━━━━━━━━\u001b[0m\u001b[37m\u001b[0m \u001b[1m0s\u001b[0m 190ms/step - accuracy: 1.0000 - loss: 4.7701e-04 - val_accuracy: 1.0000 - val_loss: 8.4946e-04 - learning_rate: 0.0010\n",
      "Epoch 26/50\n",
      "\u001b[1m2/2\u001b[0m \u001b[32m━━━━━━━━━━━━━━━━━━━━\u001b[0m\u001b[37m\u001b[0m \u001b[1m0s\u001b[0m 92ms/step - accuracy: 1.0000 - loss: 6.9268e-04 - val_accuracy: 1.0000 - val_loss: 8.4259e-04 - learning_rate: 0.0010\n",
      "Epoch 27/50\n",
      "\u001b[1m2/2\u001b[0m \u001b[32m━━━━━━━━━━━━━━━━━━━━\u001b[0m\u001b[37m\u001b[0m \u001b[1m0s\u001b[0m 172ms/step - accuracy: 1.0000 - loss: 4.2417e-04 - val_accuracy: 1.0000 - val_loss: 8.5778e-04 - learning_rate: 0.0010\n",
      "Epoch 28/50\n",
      "\u001b[1m2/2\u001b[0m \u001b[32m━━━━━━━━━━━━━━━━━━━━\u001b[0m\u001b[37m\u001b[0m \u001b[1m0s\u001b[0m 102ms/step - accuracy: 1.0000 - loss: 7.1334e-04 - val_accuracy: 1.0000 - val_loss: 8.9436e-04 - learning_rate: 0.0010\n",
      "Epoch 29/50\n",
      "\u001b[1m2/2\u001b[0m \u001b[32m━━━━━━━━━━━━━━━━━━━━\u001b[0m\u001b[37m\u001b[0m \u001b[1m0s\u001b[0m 99ms/step - accuracy: 1.0000 - loss: 5.4118e-04 - val_accuracy: 1.0000 - val_loss: 9.3761e-04 - learning_rate: 0.0010\n",
      "Epoch 30/50\n",
      "\u001b[1m2/2\u001b[0m \u001b[32m━━━━━━━━━━━━━━━━━━━━\u001b[0m\u001b[37m\u001b[0m \u001b[1m0s\u001b[0m 77ms/step - accuracy: 1.0000 - loss: 3.3561e-04 - val_accuracy: 1.0000 - val_loss: 9.7841e-04 - learning_rate: 0.0010\n",
      "Epoch 31/50\n",
      "\u001b[1m2/2\u001b[0m \u001b[32m━━━━━━━━━━━━━━━━━━━━\u001b[0m\u001b[37m\u001b[0m \u001b[1m0s\u001b[0m 84ms/step - accuracy: 1.0000 - loss: 2.5792e-04 - val_accuracy: 1.0000 - val_loss: 0.0010 - learning_rate: 0.0010\n",
      "Epoch 32/50\n",
      "\u001b[1m2/2\u001b[0m \u001b[32m━━━━━━━━━━━━━━━━━━━━\u001b[0m\u001b[37m\u001b[0m \u001b[1m0s\u001b[0m 168ms/step - accuracy: 1.0000 - loss: 5.0969e-04 - val_accuracy: 1.0000 - val_loss: 0.0010 - learning_rate: 0.0010\n",
      "Epoch 33/50\n",
      "\u001b[1m2/2\u001b[0m \u001b[32m━━━━━━━━━━━━━━━━━━━━\u001b[0m\u001b[37m\u001b[0m \u001b[1m0s\u001b[0m 142ms/step - accuracy: 1.0000 - loss: 4.2162e-04 - val_accuracy: 1.0000 - val_loss: 0.0010 - learning_rate: 0.0010\n",
      "Epoch 34/50\n",
      "\u001b[1m2/2\u001b[0m \u001b[32m━━━━━━━━━━━━━━━━━━━━\u001b[0m\u001b[37m\u001b[0m \u001b[1m0s\u001b[0m 85ms/step - accuracy: 1.0000 - loss: 3.4064e-04 - val_accuracy: 1.0000 - val_loss: 0.0010 - learning_rate: 1.0000e-04\n",
      "Epoch 35/50\n",
      "\u001b[1m2/2\u001b[0m \u001b[32m━━━━━━━━━━━━━━━━━━━━\u001b[0m\u001b[37m\u001b[0m \u001b[1m0s\u001b[0m 164ms/step - accuracy: 1.0000 - loss: 4.0830e-04 - val_accuracy: 1.0000 - val_loss: 0.0010 - learning_rate: 1.0000e-04\n",
      "Epoch 36/50\n",
      "\u001b[1m2/2\u001b[0m \u001b[32m━━━━━━━━━━━━━━━━━━━━\u001b[0m\u001b[37m\u001b[0m \u001b[1m0s\u001b[0m 168ms/step - accuracy: 1.0000 - loss: 3.0351e-04 - val_accuracy: 1.0000 - val_loss: 0.0010 - learning_rate: 1.0000e-04\n",
      "Epoch 37/50\n",
      "\u001b[1m2/2\u001b[0m \u001b[32m━━━━━━━━━━━━━━━━━━━━\u001b[0m\u001b[37m\u001b[0m \u001b[1m0s\u001b[0m 81ms/step - accuracy: 1.0000 - loss: 2.9560e-04 - val_accuracy: 1.0000 - val_loss: 0.0010 - learning_rate: 1.0000e-04\n",
      "Epoch 38/50\n",
      "\u001b[1m2/2\u001b[0m \u001b[32m━━━━━━━━━━━━━━━━━━━━\u001b[0m\u001b[37m\u001b[0m \u001b[1m0s\u001b[0m 183ms/step - accuracy: 1.0000 - loss: 2.2596e-04 - val_accuracy: 1.0000 - val_loss: 0.0010 - learning_rate: 1.0000e-04\n",
      "Epoch 39/50\n",
      "\u001b[1m2/2\u001b[0m \u001b[32m━━━━━━━━━━━━━━━━━━━━\u001b[0m\u001b[37m\u001b[0m \u001b[1m0s\u001b[0m 155ms/step - accuracy: 1.0000 - loss: 2.2267e-04 - val_accuracy: 1.0000 - val_loss: 0.0010 - learning_rate: 1.0000e-04\n",
      "Epoch 40/50\n",
      "\u001b[1m2/2\u001b[0m \u001b[32m━━━━━━━━━━━━━━━━━━━━\u001b[0m\u001b[37m\u001b[0m \u001b[1m0s\u001b[0m 163ms/step - accuracy: 1.0000 - loss: 2.4756e-04 - val_accuracy: 1.0000 - val_loss: 0.0010 - learning_rate: 1.0000e-04\n",
      "Epoch 41/50\n",
      "\u001b[1m2/2\u001b[0m \u001b[32m━━━━━━━━━━━━━━━━━━━━\u001b[0m\u001b[37m\u001b[0m \u001b[1m0s\u001b[0m 140ms/step - accuracy: 1.0000 - loss: 3.7414e-04 - val_accuracy: 1.0000 - val_loss: 0.0010 - learning_rate: 1.0000e-04\n",
      "Epoch 42/50\n",
      "\u001b[1m2/2\u001b[0m \u001b[32m━━━━━━━━━━━━━━━━━━━━\u001b[0m\u001b[37m\u001b[0m \u001b[1m0s\u001b[0m 82ms/step - accuracy: 1.0000 - loss: 2.3950e-04 - val_accuracy: 1.0000 - val_loss: 0.0010 - learning_rate: 1.0000e-04\n",
      "Epoch 43/50\n",
      "\u001b[1m2/2\u001b[0m \u001b[32m━━━━━━━━━━━━━━━━━━━━\u001b[0m\u001b[37m\u001b[0m \u001b[1m0s\u001b[0m 123ms/step - accuracy: 1.0000 - loss: 3.8658e-04 - val_accuracy: 1.0000 - val_loss: 0.0010 - learning_rate: 1.0000e-04\n",
      "Epoch 44/50\n",
      "\u001b[1m2/2\u001b[0m \u001b[32m━━━━━━━━━━━━━━━━━━━━\u001b[0m\u001b[37m\u001b[0m \u001b[1m0s\u001b[0m 167ms/step - accuracy: 1.0000 - loss: 3.7731e-04 - val_accuracy: 1.0000 - val_loss: 0.0010 - learning_rate: 1.0000e-05\n",
      "Epoch 45/50\n",
      "\u001b[1m2/2\u001b[0m \u001b[32m━━━━━━━━━━━━━━━━━━━━\u001b[0m\u001b[37m\u001b[0m \u001b[1m0s\u001b[0m 184ms/step - accuracy: 1.0000 - loss: 2.4466e-04 - val_accuracy: 1.0000 - val_loss: 0.0010 - learning_rate: 1.0000e-05\n",
      "Epoch 46/50\n",
      "\u001b[1m2/2\u001b[0m \u001b[32m━━━━━━━━━━━━━━━━━━━━\u001b[0m\u001b[37m\u001b[0m \u001b[1m0s\u001b[0m 205ms/step - accuracy: 1.0000 - loss: 3.6105e-04 - val_accuracy: 1.0000 - val_loss: 0.0010 - learning_rate: 1.0000e-05\n",
      "Epoch 47/50\n",
      "\u001b[1m2/2\u001b[0m \u001b[32m━━━━━━━━━━━━━━━━━━━━\u001b[0m\u001b[37m\u001b[0m \u001b[1m0s\u001b[0m 217ms/step - accuracy: 1.0000 - loss: 4.6320e-04 - val_accuracy: 1.0000 - val_loss: 0.0010 - learning_rate: 1.0000e-05\n",
      "Epoch 48/50\n",
      "\u001b[1m2/2\u001b[0m \u001b[32m━━━━━━━━━━━━━━━━━━━━\u001b[0m\u001b[37m\u001b[0m \u001b[1m0s\u001b[0m 221ms/step - accuracy: 1.0000 - loss: 5.7812e-04 - val_accuracy: 1.0000 - val_loss: 0.0010 - learning_rate: 1.0000e-05\n",
      "Epoch 49/50\n",
      "\u001b[1m2/2\u001b[0m \u001b[32m━━━━━━━━━━━━━━━━━━━━\u001b[0m\u001b[37m\u001b[0m \u001b[1m0s\u001b[0m 180ms/step - accuracy: 1.0000 - loss: 3.6929e-04 - val_accuracy: 1.0000 - val_loss: 0.0010 - learning_rate: 1.0000e-05\n",
      "Epoch 50/50\n",
      "\u001b[1m2/2\u001b[0m \u001b[32m━━━━━━━━━━━━━━━━━━━━\u001b[0m\u001b[37m\u001b[0m \u001b[1m0s\u001b[0m 165ms/step - accuracy: 1.0000 - loss: 3.4099e-04 - val_accuracy: 1.0000 - val_loss: 0.0010 - learning_rate: 1.0000e-05\n"
     ]
    }
   ],
   "source": [
    "inputs = tf.keras.Input(shape=(X.shape[1],))\n",
    "x = tf.keras.layers.Dense(1024, activation='relu')(inputs)\n",
    "x = tf.keras.layers.Dropout(0.2)(x)\n",
    "x = tf.keras.layers.Dense(1024, activation='relu')(x)\n",
    "x = tf.keras.layers.Dropout(0.2)(x)\n",
    "outputs = tf.keras.layers.Dense(7, activation='softmax')(x)\n",
    "\n",
    "model = tf.keras.Model(inputs, outputs)\n",
    "\n",
    "model.compile(\n",
    "    optimizer='adam',\n",
    "    loss='sparse_categorical_crossentropy',\n",
    "    metrics=['accuracy']\n",
    ")\n",
    "\n",
    "batch_size = 32\n",
    "epochs = 50 #50 before\n",
    "\n",
    "history = model.fit(\n",
    "    X_train,\n",
    "    y_train,\n",
    "    validation_split=0.2,\n",
    "    batch_size=batch_size,\n",
    "    epochs=epochs,\n",
    "    callbacks=[\n",
    "        tf.keras.callbacks.ReduceLROnPlateau()\n",
    "    ]\n",
    ")"
   ]
  },
  {
   "cell_type": "markdown",
   "metadata": {
    "papermill": {
     "duration": 0.892573,
     "end_time": "2020-11-22T20:38:23.876687",
     "exception": false,
     "start_time": "2020-11-22T20:38:22.984114",
     "status": "completed"
    },
    "tags": []
   },
   "source": [
    "# Results"
   ]
  },
  {
   "cell_type": "code",
   "execution_count": 81,
   "metadata": {
    "execution": {
     "iopub.execute_input": "2020-11-22T20:38:25.742108Z",
     "iopub.status.busy": "2020-11-22T20:38:25.741098Z",
     "iopub.status.idle": "2020-11-22T20:38:26.018807Z",
     "shell.execute_reply": "2020-11-22T20:38:26.018001Z"
    },
    "papermill": {
     "duration": 1.172636,
     "end_time": "2020-11-22T20:38:26.018945",
     "exception": false,
     "start_time": "2020-11-22T20:38:24.846309",
     "status": "completed"
    },
    "tags": []
   },
   "outputs": [
    {
     "data": {
      "image/png": "[encoded data removed]",
      "text/plain": [
       "<Figure size 1600x1000 with 1 Axes>"
      ]
     },
     "metadata": {},
     "output_type": "display_data"
    }
   ],
   "source": [
    "plt.figure(figsize=(16, 10))\n",
    "\n",
    "plt.plot(range(epochs), history.history['loss'], label=\"Training Loss\")\n",
    "plt.plot(range(epochs), history.history['val_loss'], label=\"Validation Loss\")\n",
    "\n",
    "plt.xlabel(\"Epoch\")\n",
    "plt.ylabel(\"Loss\")\n",
    "plt.legend()\n",
    "plt.title(\"Loss Over Time\")\n",
    "\n",
    "plt.show()"
   ]
  },
  {
   "cell_type": "code",
   "execution_count": 82,
   "metadata": {
    "execution": {
     "iopub.execute_input": "2020-11-22T20:38:27.810874Z",
     "iopub.status.busy": "2020-11-22T20:38:27.810066Z",
     "iopub.status.idle": "2020-11-22T20:38:28.127403Z",
     "shell.execute_reply": "2020-11-22T20:38:28.128050Z"
    },
    "papermill": {
     "duration": 1.218151,
     "end_time": "2020-11-22T20:38:28.128209",
     "exception": false,
     "start_time": "2020-11-22T20:38:26.910058",
     "status": "completed"
    },
    "tags": []
   },
   "outputs": [
    {
     "name": "stdout",
     "output_type": "stream",
     "text": [
      "\u001b[1m1/1\u001b[0m \u001b[32m━━━━━━━━━━━━━━━━━━━━\u001b[0m\u001b[37m\u001b[0m \u001b[1m0s\u001b[0m 153ms/step - accuracy: 1.0000 - loss: 2.0676e-04\n"
     ]
    },
    {
     "data": {
      "text/plain": [
       "[0.00020675807900261134, 1.0]"
      ]
     },
     "execution_count": 82,
     "metadata": {},
     "output_type": "execute_result"
    }
   ],
   "source": [
    "model.evaluate(X_test, y_test)"
   ]
  },
  {
   "cell_type": "code",
   "execution_count": 83,
   "metadata": {
    "execution": {
     "iopub.execute_input": "2020-11-22T20:38:29.933046Z",
     "iopub.status.busy": "2020-11-22T20:38:29.932242Z",
     "iopub.status.idle": "2020-11-22T20:38:30.290398Z",
     "shell.execute_reply": "2020-11-22T20:38:30.289704Z"
    },
    "papermill": {
     "duration": 1.267832,
     "end_time": "2020-11-22T20:38:30.290544",
     "exception": false,
     "start_time": "2020-11-22T20:38:29.022712",
     "status": "completed"
    },
    "tags": []
   },
   "outputs": [
    {
     "name": "stdout",
     "output_type": "stream",
     "text": [
      "\u001b[1m1/1\u001b[0m \u001b[32m━━━━━━━━━━━━━━━━━━━━\u001b[0m\u001b[37m\u001b[0m \u001b[1m0s\u001b[0m 218ms/step\n"
     ]
    }
   ],
   "source": [
    "y_true = np.array(y_test)\n",
    "y_pred = np.array(list(map(lambda x: np.argmax(x), model.predict(X_test))))"
   ]
  },
  {
   "cell_type": "code",
   "execution_count": 84,
   "metadata": {},
   "outputs": [
    {
     "name": "stdout",
     "output_type": "stream",
     "text": [
      "\u001b[1m1/1\u001b[0m \u001b[32m━━━━━━━━━━━━━━━━━━━━\u001b[0m\u001b[37m\u001b[0m \u001b[1m0s\u001b[0m 245ms/step\n",
      "[0 0 0 0 1 1 1 1 0 0 0 1 1 1 1 0 0 0 1 0 0 1 0 0 0 1 0 1 1 0 0] [0. 0. 0. 0. 0. 0. 0. 0. 0. 0. 0. 0. 0. 0. 0. 0. 0. 0. 0. 0. 0. 0. 0. 0.\n",
      " 0. 0. 0. 0. 0. 0. 0.]\n",
      "0.5806451612903226\n"
     ]
    }
   ],
   "source": [
    "# apply it to the mix movement serie \n",
    "y_true_mix = np.array(y_mix)\n",
    "y_pred_mix = np.array(list(map(lambda x: np.argmax(x), model.predict(X_mix))))\n",
    "print(y_pred_mix,y_true_mix)\n",
    "accuracy_score(y_true_mix,y_pred_mix)\n",
    "df = pd.DataFrame(y_pred_mix)\n",
    "print(accuracy_score(y_true_mix,y_pred_mix))"
   ]
  },
  {
   "cell_type": "code",
   "execution_count": 85,
   "metadata": {
    "execution": {
     "iopub.execute_input": "2020-11-22T20:38:32.086488Z",
     "iopub.status.busy": "2020-11-22T20:38:32.085647Z",
     "iopub.status.idle": "2020-11-22T20:38:32.244103Z",
     "shell.execute_reply": "2020-11-22T20:38:32.243475Z"
    },
    "papermill": {
     "duration": 1.055509,
     "end_time": "2020-11-22T20:38:32.244248",
     "exception": false,
     "start_time": "2020-11-22T20:38:31.188739",
     "status": "completed"
    },
    "tags": []
   },
   "outputs": [
    {
     "data": {
      "image/png": "[encoded data removed]",
      "text/plain": [
       "<Figure size 600x600 with 1 Axes>"
      ]
     },
     "metadata": {},
     "output_type": "display_data"
    }
   ],
   "source": [
    "cm = confusion_matrix(y_true, y_pred)\n",
    "\n",
    "plt.figure(figsize=(6, 6))\n",
    "sns.heatmap(cm, annot=True, fmt='g', cmap='Blues', cbar=False)\n",
    "plt.xlabel(\"Predicted\")\n",
    "plt.ylabel(\"Actual\")\n",
    "plt.title(\"Confusion Matrix\")\n",
    "plt.show()"
   ]
  },
  {
   "cell_type": "code",
   "execution_count": 86,
   "metadata": {
    "execution": {
     "iopub.execute_input": "2020-11-22T20:38:34.033832Z",
     "iopub.status.busy": "2020-11-22T20:38:34.033043Z",
     "iopub.status.idle": "2020-11-22T20:38:34.047604Z",
     "shell.execute_reply": "2020-11-22T20:38:34.048243Z"
    },
    "papermill": {
     "duration": 0.910894,
     "end_time": "2020-11-22T20:38:34.048449",
     "exception": false,
     "start_time": "2020-11-22T20:38:33.137555",
     "status": "completed"
    },
    "tags": []
   },
   "outputs": [
    {
     "name": "stdout",
     "output_type": "stream",
     "text": [
      "              precision    recall  f1-score   support\n",
      "\n",
      "         0.0       1.00      1.00      1.00        10\n",
      "         1.0       1.00      1.00      1.00         9\n",
      "\n",
      "    accuracy                           1.00        19\n",
      "   macro avg       1.00      1.00      1.00        19\n",
      "weighted avg       1.00      1.00      1.00        19\n",
      "\n"
     ]
    }
   ],
   "source": [
    "print(classification_report(y_true, y_pred))"
   ]
  },
  {
   "cell_type": "markdown",
   "metadata": {
    "papermill": {
     "duration": 0.917735,
     "end_time": "2020-11-22T20:38:35.870761",
     "exception": false,
     "start_time": "2020-11-22T20:38:34.953026",
     "status": "completed"
    },
    "tags": []
   },
   "source": [
    "# Data Every Day  \n",
    "\n",
    "This notebook is featured on Data Every Day, a YouTube series where I train models on a new dataset each day.  \n",
    "\n",
    "***\n",
    "\n",
    "Check it out!  \n",
    "https://youtu.be/8HLUmsMV2ho"
   ]
  }
 ],
 "metadata": {
  "kernelspec": {
   "display_name": "Python 3",
   "language": "python",
   "name": "python3"
  },
  "language_info": {
   "codemirror_mode": {
    "name": "ipython",
    "version": 3
   },
   "file_extension": ".py",
   "mimetype": "text/x-python",
   "name": "python",
   "nbconvert_exporter": "python",
   "pygments_lexer": "ipython3",
   "version": "3.12.3"
  },
  "papermill": {
   "duration": 152.878805,
   "end_time": "2020-11-22T20:38:36.875398",
   "environment_variables": {},
   "exception": null,
   "input_path": "__notebook__.ipynb",
   "output_path": "__notebook__.ipynb",
   "parameters": {},
   "start_time": "2020-11-22T20:36:03.996593",
   "version": "2.1.0"
  }
 },
 "nbformat": 4,
 "nbformat_minor": 4
}
