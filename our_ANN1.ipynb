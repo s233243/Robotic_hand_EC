{
 "cells": [
  {
   "cell_type": "markdown",
   "metadata": {
    "papermill": {
     "duration": 0.019666,
     "end_time": "2020-11-22T20:36:08.917693",
     "exception": false,
     "start_time": "2020-11-22T20:36:08.898027",
     "status": "completed"
    },
    "tags": []
   },
   "source": [
    "# Task for Today  \n",
    "\n",
    "***\n",
    "\n",
    "## Hand Gesture Classification  \n",
    "\n",
    "Given *tabular data about four hand gestures*, let's try to classify the **gesture** of a given example.\n",
    "\n",
    "We will use a TensorFlow ANN to make our predictions."
   ]
  },
  {
   "cell_type": "markdown",
   "metadata": {
    "papermill": {
     "duration": 0.017015,
     "end_time": "2020-11-22T20:36:08.951150",
     "exception": false,
     "start_time": "2020-11-22T20:36:08.934135",
     "status": "completed"
    },
    "tags": []
   },
   "source": [
    "# Getting Started"
   ]
  },
  {
   "cell_type": "code",
   "execution_count": 98,
   "metadata": {
    "_cell_guid": "79c7e3d0-c299-4dcb-8224-4455121ee9b0",
    "_uuid": "d629ff2d2480ee46fbb7e2d37f6b5fab8052498a",
    "execution": {
     "iopub.execute_input": "2020-11-22T20:36:08.991239Z",
     "iopub.status.busy": "2020-11-22T20:36:08.990414Z",
     "iopub.status.idle": "2020-11-22T20:36:15.750665Z",
     "shell.execute_reply": "2020-11-22T20:36:15.749920Z"
    },
    "papermill": {
     "duration": 6.783271,
     "end_time": "2020-11-22T20:36:15.750825",
     "exception": false,
     "start_time": "2020-11-22T20:36:08.967554",
     "status": "completed"
    },
    "tags": []
   },
   "outputs": [],
   "source": [
    "import numpy as np\n",
    "import pandas as pd\n",
    "import matplotlib.pyplot as plt\n",
    "import seaborn as sns\n",
    "from sklearn.metrics import accuracy_score\n",
    "\n",
    "from sklearn.preprocessing import StandardScaler\n",
    "from sklearn.model_selection import train_test_split\n",
    "\n",
    "import tensorflow as tf\n",
    "\n",
    "from sklearn.metrics import classification_report, confusion_matrix"
   ]
  },
  {
   "cell_type": "code",
   "execution_count": 155,
   "metadata": {
    "execution": {
     "iopub.execute_input": "2020-11-22T20:36:16.076700Z",
     "iopub.status.busy": "2020-11-22T20:36:16.075460Z",
     "iopub.status.idle": "2020-11-22T20:36:16.089781Z",
     "shell.execute_reply": "2020-11-22T20:36:16.088994Z"
    },
    "papermill": {
     "duration": 0.039971,
     "end_time": "2020-11-22T20:36:16.089938",
     "exception": false,
     "start_time": "2020-11-22T20:36:16.049967",
     "status": "completed"
    },
    "tags": []
   },
   "outputs": [],
   "source": [
    "# import the dataset to train and evaluate the model\n",
    "dfs = [] #for PCA features\n",
    "dfs.append(pd.read_csv(r\"our_input_30/global_pca.csv\"))\n",
    "# dfs.append(pd.read_csv(r\"our_input_subject2/global_pca3.csv\"))\n",
    "for df in dfs:\n",
    "    df.columns = list(range(len(df.columns)))\n",
    "data= pd.concat([df for df in dfs], axis=0).reset_index(drop=True) "
   ]
  },
  {
   "cell_type": "code",
   "execution_count": 156,
   "metadata": {
    "execution": {
     "iopub.execute_input": "2020-11-22T20:36:16.134168Z",
     "iopub.status.busy": "2020-11-22T20:36:16.133376Z",
     "iopub.status.idle": "2020-11-22T20:36:16.181322Z",
     "shell.execute_reply": "2020-11-22T20:36:16.181927Z"
    },
    "papermill": {
     "duration": 0.075097,
     "end_time": "2020-11-22T20:36:16.182080",
     "exception": false,
     "start_time": "2020-11-22T20:36:16.106983",
     "status": "completed"
    },
    "tags": []
   },
   "outputs": [],
   "source": [
    "# import the new dataset we want to apply the classifier on\n",
    "df_mix=[]\n",
    "df_mix.append(pd.read_csv(r\"our_input_30/mix_pca2.csv\",header=None))\n",
    "for dfs in df_mix:\n",
    "    dfs.columns = list(range(len(dfs.columns)))\n",
    "df_mix= pd.concat(df_mix, axis=0).reset_index(drop=True)"
   ]
  },
  {
   "cell_type": "markdown",
   "metadata": {
    "papermill": {
     "duration": 0.018333,
     "end_time": "2020-11-22T20:36:16.268902",
     "exception": false,
     "start_time": "2020-11-22T20:36:16.250569",
     "status": "completed"
    },
    "tags": []
   },
   "source": [
    "# Splitting/Scaling"
   ]
  },
  {
   "cell_type": "code",
   "execution_count": 157,
   "metadata": {
    "execution": {
     "iopub.execute_input": "2020-11-22T20:36:16.316191Z",
     "iopub.status.busy": "2020-11-22T20:36:16.315287Z",
     "iopub.status.idle": "2020-11-22T20:36:16.324149Z",
     "shell.execute_reply": "2020-11-22T20:36:16.323489Z"
    },
    "papermill": {
     "duration": 0.036554,
     "end_time": "2020-11-22T20:36:16.324284",
     "exception": false,
     "start_time": "2020-11-22T20:36:16.287730",
     "status": "completed"
    },
    "tags": []
   },
   "outputs": [],
   "source": [
    "# extraction for features 3PC\n",
    "X = df.drop(2,axis=1)\n",
    "y = df.iloc[:, 2]              # output required\n",
    "\n",
    "#extraction for mixed serie\n",
    "X_mix = df_mix.drop(2,axis=1)\n",
    "y_mix = df_mix.iloc[:, 2]              # output required"
   ]
  },
  {
   "cell_type": "code",
   "execution_count": 158,
   "metadata": {},
   "outputs": [
    {
     "data": {
      "text/html": [
       "<div>\n",
       "<style scoped>\n",
       "    .dataframe tbody tr th:only-of-type {\n",
       "        vertical-align: middle;\n",
       "    }\n",
       "\n",
       "    .dataframe tbody tr th {\n",
       "        vertical-align: top;\n",
       "    }\n",
       "\n",
       "    .dataframe thead th {\n",
       "        text-align: right;\n",
       "    }\n",
       "</style>\n",
       "<table border=\"1\" class=\"dataframe\">\n",
       "  <thead>\n",
       "    <tr style=\"text-align: right;\">\n",
       "      <th></th>\n",
       "      <th>0</th>\n",
       "      <th>1</th>\n",
       "    </tr>\n",
       "  </thead>\n",
       "  <tbody>\n",
       "    <tr>\n",
       "      <th>0</th>\n",
       "      <td>5.186696</td>\n",
       "      <td>-0.282449</td>\n",
       "    </tr>\n",
       "    <tr>\n",
       "      <th>1</th>\n",
       "      <td>2.270144</td>\n",
       "      <td>0.922515</td>\n",
       "    </tr>\n",
       "    <tr>\n",
       "      <th>2</th>\n",
       "      <td>7.351414</td>\n",
       "      <td>-0.815896</td>\n",
       "    </tr>\n",
       "    <tr>\n",
       "      <th>3</th>\n",
       "      <td>7.281085</td>\n",
       "      <td>-0.349993</td>\n",
       "    </tr>\n",
       "    <tr>\n",
       "      <th>4</th>\n",
       "      <td>8.960811</td>\n",
       "      <td>-0.766667</td>\n",
       "    </tr>\n",
       "    <tr>\n",
       "      <th>...</th>\n",
       "      <td>...</td>\n",
       "      <td>...</td>\n",
       "    </tr>\n",
       "    <tr>\n",
       "      <th>212</th>\n",
       "      <td>0.247641</td>\n",
       "      <td>0.351363</td>\n",
       "    </tr>\n",
       "    <tr>\n",
       "      <th>213</th>\n",
       "      <td>1.826329</td>\n",
       "      <td>0.038614</td>\n",
       "    </tr>\n",
       "    <tr>\n",
       "      <th>214</th>\n",
       "      <td>0.220924</td>\n",
       "      <td>-0.118857</td>\n",
       "    </tr>\n",
       "    <tr>\n",
       "      <th>215</th>\n",
       "      <td>-0.570330</td>\n",
       "      <td>1.030801</td>\n",
       "    </tr>\n",
       "    <tr>\n",
       "      <th>216</th>\n",
       "      <td>0.589178</td>\n",
       "      <td>-0.188249</td>\n",
       "    </tr>\n",
       "  </tbody>\n",
       "</table>\n",
       "<p>217 rows × 2 columns</p>\n",
       "</div>"
      ],
      "text/plain": [
       "            0         1\n",
       "0    5.186696 -0.282449\n",
       "1    2.270144  0.922515\n",
       "2    7.351414 -0.815896\n",
       "3    7.281085 -0.349993\n",
       "4    8.960811 -0.766667\n",
       "..        ...       ...\n",
       "212  0.247641  0.351363\n",
       "213  1.826329  0.038614\n",
       "214  0.220924 -0.118857\n",
       "215 -0.570330  1.030801\n",
       "216  0.589178 -0.188249\n",
       "\n",
       "[217 rows x 2 columns]"
      ]
     },
     "execution_count": 158,
     "metadata": {},
     "output_type": "execute_result"
    }
   ],
   "source": [
    "X"
   ]
  },
  {
   "cell_type": "code",
   "execution_count": 159,
   "metadata": {},
   "outputs": [
    {
     "data": {
      "text/plain": [
       "0      0.0\n",
       "1      0.0\n",
       "2      0.0\n",
       "3      0.0\n",
       "4      0.0\n",
       "      ... \n",
       "212    6.0\n",
       "213    6.0\n",
       "214    6.0\n",
       "215    6.0\n",
       "216    6.0\n",
       "Name: 2, Length: 217, dtype: float64"
      ]
     },
     "execution_count": 159,
     "metadata": {},
     "output_type": "execute_result"
    }
   ],
   "source": [
    "y"
   ]
  },
  {
   "cell_type": "code",
   "execution_count": 160,
   "metadata": {
    "execution": {
     "iopub.execute_input": "2020-11-22T20:36:16.372530Z",
     "iopub.status.busy": "2020-11-22T20:36:16.370991Z",
     "iopub.status.idle": "2020-11-22T20:36:16.392926Z",
     "shell.execute_reply": "2020-11-22T20:36:16.393482Z"
    },
    "papermill": {
     "duration": 0.050524,
     "end_time": "2020-11-22T20:36:16.393660",
     "exception": false,
     "start_time": "2020-11-22T20:36:16.343136",
     "status": "completed"
    },
    "tags": []
   },
   "outputs": [],
   "source": [
    "scaler = StandardScaler()\n",
    "X = scaler.fit_transform(X)\n",
    "X_mix = scaler.fit_transform(X_mix)"
   ]
  },
  {
   "cell_type": "code",
   "execution_count": 161,
   "metadata": {
    "execution": {
     "iopub.execute_input": "2020-11-22T20:36:16.438602Z",
     "iopub.status.busy": "2020-11-22T20:36:16.437798Z",
     "iopub.status.idle": "2020-11-22T20:36:16.447306Z",
     "shell.execute_reply": "2020-11-22T20:36:16.446646Z"
    },
    "papermill": {
     "duration": 0.034673,
     "end_time": "2020-11-22T20:36:16.447452",
     "exception": false,
     "start_time": "2020-11-22T20:36:16.412779",
     "status": "completed"
    },
    "tags": []
   },
   "outputs": [],
   "source": [
    "X_train, X_test, y_train, y_test = train_test_split(X, y, train_size=0.7, random_state=100)"
   ]
  },
  {
   "cell_type": "markdown",
   "metadata": {
    "papermill": {
     "duration": 0.018943,
     "end_time": "2020-11-22T20:36:16.485658",
     "exception": false,
     "start_time": "2020-11-22T20:36:16.466715",
     "status": "completed"
    },
    "tags": []
   },
   "source": [
    "# Training"
   ]
  },
  {
   "cell_type": "code",
   "execution_count": 162,
   "metadata": {
    "execution": {
     "iopub.execute_input": "2020-11-22T20:36:16.589135Z",
     "iopub.status.busy": "2020-11-22T20:36:16.588256Z",
     "iopub.status.idle": "2020-11-22T20:38:22.066290Z",
     "shell.execute_reply": "2020-11-22T20:38:22.065347Z"
    },
    "papermill": {
     "duration": 125.512053,
     "end_time": "2020-11-22T20:38:22.066459",
     "exception": false,
     "start_time": "2020-11-22T20:36:16.554406",
     "status": "completed"
    },
    "tags": []
   },
   "outputs": [
    {
     "name": "stdout",
     "output_type": "stream",
     "text": [
      "Epoch 1/30\n",
      "\u001b[1m4/4\u001b[0m \u001b[32m━━━━━━━━━━━━━━━━━━━━\u001b[0m\u001b[37m\u001b[0m \u001b[1m1s\u001b[0m 68ms/step - accuracy: 0.2485 - loss: 1.8608 - val_accuracy: 0.3226 - val_loss: 1.6836 - learning_rate: 0.0010\n",
      "Epoch 2/30\n",
      "\u001b[1m4/4\u001b[0m \u001b[32m━━━━━━━━━━━━━━━━━━━━\u001b[0m\u001b[37m\u001b[0m \u001b[1m0s\u001b[0m 22ms/step - accuracy: 0.2981 - loss: 1.5062 - val_accuracy: 0.3226 - val_loss: 1.5531 - learning_rate: 0.0010\n",
      "Epoch 3/30\n",
      "\u001b[1m4/4\u001b[0m \u001b[32m━━━━━━━━━━━━━━━━━━━━\u001b[0m\u001b[37m\u001b[0m \u001b[1m0s\u001b[0m 22ms/step - accuracy: 0.2833 - loss: 1.4175 - val_accuracy: 0.3871 - val_loss: 1.4275 - learning_rate: 0.0010\n",
      "Epoch 4/30\n",
      "\u001b[1m4/4\u001b[0m \u001b[32m━━━━━━━━━━━━━━━━━━━━\u001b[0m\u001b[37m\u001b[0m \u001b[1m0s\u001b[0m 21ms/step - accuracy: 0.3754 - loss: 1.2947 - val_accuracy: 0.3226 - val_loss: 1.3525 - learning_rate: 0.0010\n",
      "Epoch 5/30\n",
      "\u001b[1m4/4\u001b[0m \u001b[32m━━━━━━━━━━━━━━━━━━━━\u001b[0m\u001b[37m\u001b[0m \u001b[1m0s\u001b[0m 22ms/step - accuracy: 0.4171 - loss: 1.2252 - val_accuracy: 0.3871 - val_loss: 1.3454 - learning_rate: 0.0010\n",
      "Epoch 6/30\n",
      "\u001b[1m4/4\u001b[0m \u001b[32m━━━━━━━━━━━━━━━━━━━━\u001b[0m\u001b[37m\u001b[0m \u001b[1m0s\u001b[0m 24ms/step - accuracy: 0.5037 - loss: 1.1206 - val_accuracy: 0.2581 - val_loss: 1.3769 - learning_rate: 0.0010\n",
      "Epoch 7/30\n",
      "\u001b[1m4/4\u001b[0m \u001b[32m━━━━━━━━━━━━━━━━━━━━\u001b[0m\u001b[37m\u001b[0m \u001b[1m0s\u001b[0m 21ms/step - accuracy: 0.5294 - loss: 1.1159 - val_accuracy: 0.4194 - val_loss: 1.3715 - learning_rate: 0.0010\n",
      "Epoch 8/30\n",
      "\u001b[1m4/4\u001b[0m \u001b[32m━━━━━━━━━━━━━━━━━━━━\u001b[0m\u001b[37m\u001b[0m \u001b[1m0s\u001b[0m 18ms/step - accuracy: 0.5454 - loss: 1.0368 - val_accuracy: 0.3871 - val_loss: 1.3296 - learning_rate: 0.0010\n",
      "Epoch 9/30\n",
      "\u001b[1m4/4\u001b[0m \u001b[32m━━━━━━━━━━━━━━━━━━━━\u001b[0m\u001b[37m\u001b[0m \u001b[1m0s\u001b[0m 21ms/step - accuracy: 0.6115 - loss: 0.9702 - val_accuracy: 0.3871 - val_loss: 1.3219 - learning_rate: 0.0010\n",
      "Epoch 10/30\n",
      "\u001b[1m4/4\u001b[0m \u001b[32m━━━━━━━━━━━━━━━━━━━━\u001b[0m\u001b[37m\u001b[0m \u001b[1m0s\u001b[0m 22ms/step - accuracy: 0.6621 - loss: 0.9024 - val_accuracy: 0.3871 - val_loss: 1.3083 - learning_rate: 0.0010\n",
      "Epoch 11/30\n",
      "\u001b[1m4/4\u001b[0m \u001b[32m━━━━━━━━━━━━━━━━━━━━\u001b[0m\u001b[37m\u001b[0m \u001b[1m0s\u001b[0m 18ms/step - accuracy: 0.5965 - loss: 0.8843 - val_accuracy: 0.3548 - val_loss: 1.2466 - learning_rate: 0.0010\n",
      "Epoch 12/30\n",
      "\u001b[1m4/4\u001b[0m \u001b[32m━━━━━━━━━━━━━━━━━━━━\u001b[0m\u001b[37m\u001b[0m \u001b[1m0s\u001b[0m 22ms/step - accuracy: 0.6092 - loss: 0.8395 - val_accuracy: 0.4839 - val_loss: 1.2126 - learning_rate: 0.0010\n",
      "Epoch 13/30\n",
      "\u001b[1m4/4\u001b[0m \u001b[32m━━━━━━━━━━━━━━━━━━━━\u001b[0m\u001b[37m\u001b[0m \u001b[1m0s\u001b[0m 21ms/step - accuracy: 0.6781 - loss: 0.7855 - val_accuracy: 0.4839 - val_loss: 1.1909 - learning_rate: 0.0010\n",
      "Epoch 14/30\n",
      "\u001b[1m4/4\u001b[0m \u001b[32m━━━━━━━━━━━━━━━━━━━━\u001b[0m\u001b[37m\u001b[0m \u001b[1m0s\u001b[0m 21ms/step - accuracy: 0.7354 - loss: 0.7394 - val_accuracy: 0.4516 - val_loss: 1.1925 - learning_rate: 0.0010\n",
      "Epoch 15/30\n",
      "\u001b[1m4/4\u001b[0m \u001b[32m━━━━━━━━━━━━━━━━━━━━\u001b[0m\u001b[37m\u001b[0m \u001b[1m0s\u001b[0m 21ms/step - accuracy: 0.6679 - loss: 0.7350 - val_accuracy: 0.4839 - val_loss: 1.1662 - learning_rate: 0.0010\n",
      "Epoch 16/30\n",
      "\u001b[1m4/4\u001b[0m \u001b[32m━━━━━━━━━━━━━━━━━━━━\u001b[0m\u001b[37m\u001b[0m \u001b[1m0s\u001b[0m 22ms/step - accuracy: 0.7219 - loss: 0.6781 - val_accuracy: 0.5161 - val_loss: 1.2037 - learning_rate: 0.0010\n",
      "Epoch 17/30\n",
      "\u001b[1m4/4\u001b[0m \u001b[32m━━━━━━━━━━━━━━━━━━━━\u001b[0m\u001b[37m\u001b[0m \u001b[1m0s\u001b[0m 22ms/step - accuracy: 0.6956 - loss: 0.6762 - val_accuracy: 0.4516 - val_loss: 1.1626 - learning_rate: 0.0010\n",
      "Epoch 18/30\n",
      "\u001b[1m4/4\u001b[0m \u001b[32m━━━━━━━━━━━━━━━━━━━━\u001b[0m\u001b[37m\u001b[0m \u001b[1m0s\u001b[0m 25ms/step - accuracy: 0.7317 - loss: 0.6441 - val_accuracy: 0.4516 - val_loss: 1.1402 - learning_rate: 0.0010\n",
      "Epoch 19/30\n",
      "\u001b[1m4/4\u001b[0m \u001b[32m━━━━━━━━━━━━━━━━━━━━\u001b[0m\u001b[37m\u001b[0m \u001b[1m0s\u001b[0m 22ms/step - accuracy: 0.6975 - loss: 0.6207 - val_accuracy: 0.4839 - val_loss: 1.1659 - learning_rate: 0.0010\n",
      "Epoch 20/30\n",
      "\u001b[1m4/4\u001b[0m \u001b[32m━━━━━━━━━━━━━━━━━━━━\u001b[0m\u001b[37m\u001b[0m \u001b[1m0s\u001b[0m 21ms/step - accuracy: 0.7117 - loss: 0.6450 - val_accuracy: 0.4839 - val_loss: 1.2173 - learning_rate: 0.0010\n",
      "Epoch 21/30\n",
      "\u001b[1m4/4\u001b[0m \u001b[32m━━━━━━━━━━━━━━━━━━━━\u001b[0m\u001b[37m\u001b[0m \u001b[1m0s\u001b[0m 21ms/step - accuracy: 0.6710 - loss: 0.6474 - val_accuracy: 0.5484 - val_loss: 1.1836 - learning_rate: 0.0010\n",
      "Epoch 22/30\n",
      "\u001b[1m4/4\u001b[0m \u001b[32m━━━━━━━━━━━━━━━━━━━━\u001b[0m\u001b[37m\u001b[0m \u001b[1m0s\u001b[0m 21ms/step - accuracy: 0.6900 - loss: 0.6380 - val_accuracy: 0.3871 - val_loss: 1.2425 - learning_rate: 0.0010\n",
      "Epoch 23/30\n",
      "\u001b[1m4/4\u001b[0m \u001b[32m━━━━━━━━━━━━━━━━━━━━\u001b[0m\u001b[37m\u001b[0m \u001b[1m0s\u001b[0m 25ms/step - accuracy: 0.7335 - loss: 0.6112 - val_accuracy: 0.4839 - val_loss: 1.1579 - learning_rate: 0.0010\n",
      "Epoch 24/30\n",
      "\u001b[1m4/4\u001b[0m \u001b[32m━━━━━━━━━━━━━━━━━━━━\u001b[0m\u001b[37m\u001b[0m \u001b[1m0s\u001b[0m 21ms/step - accuracy: 0.6721 - loss: 0.6207 - val_accuracy: 0.4839 - val_loss: 1.2080 - learning_rate: 0.0010\n",
      "Epoch 25/30\n",
      "\u001b[1m4/4\u001b[0m \u001b[32m━━━━━━━━━━━━━━━━━━━━\u001b[0m\u001b[37m\u001b[0m \u001b[1m0s\u001b[0m 21ms/step - accuracy: 0.6863 - loss: 0.6065 - val_accuracy: 0.5484 - val_loss: 1.2611 - learning_rate: 0.0010\n",
      "Epoch 26/30\n",
      "\u001b[1m4/4\u001b[0m \u001b[32m━━━━━━━━━━━━━━━━━━━━\u001b[0m\u001b[37m\u001b[0m \u001b[1m0s\u001b[0m 21ms/step - accuracy: 0.6521 - loss: 0.5823 - val_accuracy: 0.4516 - val_loss: 1.2582 - learning_rate: 0.0010\n",
      "Epoch 27/30\n",
      "\u001b[1m4/4\u001b[0m \u001b[32m━━━━━━━━━━━━━━━━━━━━\u001b[0m\u001b[37m\u001b[0m \u001b[1m0s\u001b[0m 18ms/step - accuracy: 0.7494 - loss: 0.5030 - val_accuracy: 0.4839 - val_loss: 1.2903 - learning_rate: 0.0010\n",
      "Epoch 28/30\n",
      "\u001b[1m4/4\u001b[0m \u001b[32m━━━━━━━━━━━━━━━━━━━━\u001b[0m\u001b[37m\u001b[0m \u001b[1m0s\u001b[0m 21ms/step - accuracy: 0.7150 - loss: 0.5600 - val_accuracy: 0.5161 - val_loss: 1.2800 - learning_rate: 0.0010\n",
      "Epoch 29/30\n",
      "\u001b[1m4/4\u001b[0m \u001b[32m━━━━━━━━━━━━━━━━━━━━\u001b[0m\u001b[37m\u001b[0m \u001b[1m0s\u001b[0m 20ms/step - accuracy: 0.6196 - loss: 0.6104 - val_accuracy: 0.5161 - val_loss: 1.2772 - learning_rate: 1.0000e-04\n",
      "Epoch 30/30\n",
      "\u001b[1m4/4\u001b[0m \u001b[32m━━━━━━━━━━━━━━━━━━━━\u001b[0m\u001b[37m\u001b[0m \u001b[1m0s\u001b[0m 23ms/step - accuracy: 0.7435 - loss: 0.5333 - val_accuracy: 0.5161 - val_loss: 1.2741 - learning_rate: 1.0000e-04\n"
     ]
    }
   ],
   "source": [
    "inputs = tf.keras.Input(shape=(X.shape[1],))\n",
    "x = tf.keras.layers.Dense(1024, activation='relu')(inputs)\n",
    "x = tf.keras.layers.Dropout(0.2)(x)\n",
    "x = tf.keras.layers.Dense(1024, activation='relu')(x)\n",
    "x = tf.keras.layers.Dropout(0.2)(x)\n",
    "outputs = tf.keras.layers.Dense(7, activation='softmax')(x)\n",
    "\n",
    "model = tf.keras.Model(inputs, outputs)\n",
    "\n",
    "model.compile(\n",
    "    optimizer='adam',\n",
    "    loss='sparse_categorical_crossentropy',\n",
    "    metrics=['accuracy']\n",
    ")\n",
    "\n",
    "batch_size = 32\n",
    "epochs = 30 #50 before\n",
    "\n",
    "history = model.fit(\n",
    "    X_train,\n",
    "    y_train,\n",
    "    validation_split=0.2,\n",
    "    batch_size=batch_size,\n",
    "    epochs=epochs,\n",
    "    callbacks=[\n",
    "        tf.keras.callbacks.ReduceLROnPlateau()\n",
    "    ]\n",
    ")"
   ]
  },
  {
   "cell_type": "markdown",
   "metadata": {
    "papermill": {
     "duration": 0.892573,
     "end_time": "2020-11-22T20:38:23.876687",
     "exception": false,
     "start_time": "2020-11-22T20:38:22.984114",
     "status": "completed"
    },
    "tags": []
   },
   "source": [
    "# Results"
   ]
  },
  {
   "cell_type": "code",
   "execution_count": 163,
   "metadata": {
    "execution": {
     "iopub.execute_input": "2020-11-22T20:38:25.742108Z",
     "iopub.status.busy": "2020-11-22T20:38:25.741098Z",
     "iopub.status.idle": "2020-11-22T20:38:26.018807Z",
     "shell.execute_reply": "2020-11-22T20:38:26.018001Z"
    },
    "papermill": {
     "duration": 1.172636,
     "end_time": "2020-11-22T20:38:26.018945",
     "exception": false,
     "start_time": "2020-11-22T20:38:24.846309",
     "status": "completed"
    },
    "tags": []
   },
   "outputs": [
    {
     "data": {
      "image/png": "[encoded data removed]",
      "text/plain": [
       "<Figure size 1600x1000 with 1 Axes>"
      ]
     },
     "metadata": {},
     "output_type": "display_data"
    }
   ],
   "source": [
    "plt.figure(figsize=(16, 10))\n",
    "\n",
    "plt.plot(range(epochs), history.history['loss'], label=\"Training Loss\")\n",
    "plt.plot(range(epochs), history.history['val_loss'], label=\"Validation Loss\")\n",
    "\n",
    "plt.xlabel(\"Epoch\")\n",
    "plt.ylabel(\"Loss\")\n",
    "plt.legend()\n",
    "plt.title(\"Loss Over Time\")\n",
    "\n",
    "plt.show()"
   ]
  },
  {
   "cell_type": "code",
   "execution_count": 164,
   "metadata": {
    "execution": {
     "iopub.execute_input": "2020-11-22T20:38:27.810874Z",
     "iopub.status.busy": "2020-11-22T20:38:27.810066Z",
     "iopub.status.idle": "2020-11-22T20:38:28.127403Z",
     "shell.execute_reply": "2020-11-22T20:38:28.128050Z"
    },
    "papermill": {
     "duration": 1.218151,
     "end_time": "2020-11-22T20:38:28.128209",
     "exception": false,
     "start_time": "2020-11-22T20:38:26.910058",
     "status": "completed"
    },
    "tags": []
   },
   "outputs": [
    {
     "name": "stdout",
     "output_type": "stream",
     "text": [
      "\u001b[1m3/3\u001b[0m \u001b[32m━━━━━━━━━━━━━━━━━━━━\u001b[0m\u001b[37m\u001b[0m \u001b[1m0s\u001b[0m 3ms/step - accuracy: 0.4534 - loss: 1.0972 \n"
     ]
    },
    {
     "data": {
      "text/plain": [
       "[1.022939920425415, 0.4848484992980957]"
      ]
     },
     "execution_count": 164,
     "metadata": {},
     "output_type": "execute_result"
    }
   ],
   "source": [
    "model.evaluate(X_test, y_test)"
   ]
  },
  {
   "cell_type": "code",
   "execution_count": 165,
   "metadata": {
    "execution": {
     "iopub.execute_input": "2020-11-22T20:38:29.933046Z",
     "iopub.status.busy": "2020-11-22T20:38:29.932242Z",
     "iopub.status.idle": "2020-11-22T20:38:30.290398Z",
     "shell.execute_reply": "2020-11-22T20:38:30.289704Z"
    },
    "papermill": {
     "duration": 1.267832,
     "end_time": "2020-11-22T20:38:30.290544",
     "exception": false,
     "start_time": "2020-11-22T20:38:29.022712",
     "status": "completed"
    },
    "tags": []
   },
   "outputs": [
    {
     "name": "stdout",
     "output_type": "stream",
     "text": [
      "\u001b[1m3/3\u001b[0m \u001b[32m━━━━━━━━━━━━━━━━━━━━\u001b[0m\u001b[37m\u001b[0m \u001b[1m0s\u001b[0m 10ms/step\n"
     ]
    }
   ],
   "source": [
    "y_true = np.array(y_test)\n",
    "y_pred = np.array(list(map(lambda x: np.argmax(x), model.predict(X_test))))"
   ]
  },
  {
   "cell_type": "code",
   "execution_count": 166,
   "metadata": {},
   "outputs": [
    {
     "name": "stdout",
     "output_type": "stream",
     "text": [
      "\u001b[1m1/1\u001b[0m \u001b[32m━━━━━━━━━━━━━━━━━━━━\u001b[0m\u001b[37m\u001b[0m \u001b[1m0s\u001b[0m 24ms/step\n",
      "0.42857142857142855\n"
     ]
    }
   ],
   "source": [
    "# apply it to the mix movement serie \n",
    "y_true_mix = np.array(y_mix)\n",
    "y_pred_mix = np.array(list(map(lambda x: np.argmax(x), model.predict(X_mix))))\n",
    "accuracy_score(y_mix,y_pred_mix)\n",
    "df = pd.DataFrame(y_pred_mix)\n",
    "print(accuracy_score(y_mix,y_pred_mix))"
   ]
  },
  {
   "cell_type": "code",
   "execution_count": 167,
   "metadata": {
    "execution": {
     "iopub.execute_input": "2020-11-22T20:38:32.086488Z",
     "iopub.status.busy": "2020-11-22T20:38:32.085647Z",
     "iopub.status.idle": "2020-11-22T20:38:32.244103Z",
     "shell.execute_reply": "2020-11-22T20:38:32.243475Z"
    },
    "papermill": {
     "duration": 1.055509,
     "end_time": "2020-11-22T20:38:32.244248",
     "exception": false,
     "start_time": "2020-11-22T20:38:31.188739",
     "status": "completed"
    },
    "tags": []
   },
   "outputs": [
    {
     "data": {
      "image/png": "[encoded data removed]",
      "text/plain": [
       "<Figure size 600x600 with 1 Axes>"
      ]
     },
     "metadata": {},
     "output_type": "display_data"
    }
   ],
   "source": [
    "cm = confusion_matrix(y_true, y_pred)\n",
    "\n",
    "plt.figure(figsize=(6, 6))\n",
    "sns.heatmap(cm, annot=True, fmt='g', cmap='Blues', cbar=False)\n",
    "plt.xlabel(\"Predicted\")\n",
    "plt.ylabel(\"Actual\")\n",
    "plt.title(\"Confusion Matrix\")\n",
    "plt.show()"
   ]
  },
  {
   "cell_type": "code",
   "execution_count": 168,
   "metadata": {
    "execution": {
     "iopub.execute_input": "2020-11-22T20:38:34.033832Z",
     "iopub.status.busy": "2020-11-22T20:38:34.033043Z",
     "iopub.status.idle": "2020-11-22T20:38:34.047604Z",
     "shell.execute_reply": "2020-11-22T20:38:34.048243Z"
    },
    "papermill": {
     "duration": 0.910894,
     "end_time": "2020-11-22T20:38:34.048449",
     "exception": false,
     "start_time": "2020-11-22T20:38:33.137555",
     "status": "completed"
    },
    "tags": []
   },
   "outputs": [
    {
     "name": "stdout",
     "output_type": "stream",
     "text": [
      "              precision    recall  f1-score   support\n",
      "\n",
      "         0.0       0.64      1.00      0.78         7\n",
      "         1.0       0.25      0.12      0.17         8\n",
      "         2.0       0.31      0.36      0.33        11\n",
      "         3.0       0.77      1.00      0.87        10\n",
      "         4.0       0.00      0.00      0.00         9\n",
      "         5.0       0.78      0.50      0.61        14\n",
      "         6.0       0.33      0.43      0.38         7\n",
      "\n",
      "    accuracy                           0.48        66\n",
      "   macro avg       0.44      0.49      0.45        66\n",
      "weighted avg       0.47      0.48      0.46        66\n",
      "\n"
     ]
    }
   ],
   "source": [
    "print(classification_report(y_true, y_pred))"
   ]
  },
  {
   "cell_type": "markdown",
   "metadata": {
    "papermill": {
     "duration": 0.917735,
     "end_time": "2020-11-22T20:38:35.870761",
     "exception": false,
     "start_time": "2020-11-22T20:38:34.953026",
     "status": "completed"
    },
    "tags": []
   },
   "source": [
    "# Data Every Day  \n",
    "\n",
    "This notebook is featured on Data Every Day, a YouTube series where I train models on a new dataset each day.  \n",
    "\n",
    "***\n",
    "\n",
    "Check it out!  \n",
    "https://youtu.be/8HLUmsMV2ho"
   ]
  }
 ],
 "metadata": {
  "kernelspec": {
   "display_name": "Python 3",
   "language": "python",
   "name": "python3"
  },
  "language_info": {
   "codemirror_mode": {
    "name": "ipython",
    "version": 3
   },
   "file_extension": ".py",
   "mimetype": "text/x-python",
   "name": "python",
   "nbconvert_exporter": "python",
   "pygments_lexer": "ipython3",
   "version": "3.12.3"
  },
  "papermill": {
   "duration": 152.878805,
   "end_time": "2020-11-22T20:38:36.875398",
   "environment_variables": {},
   "exception": null,
   "input_path": "__notebook__.ipynb",
   "output_path": "__notebook__.ipynb",
   "parameters": {},
   "start_time": "2020-11-22T20:36:03.996593",
   "version": "2.1.0"
  }
 },
 "nbformat": 4,
 "nbformat_minor": 4
}
