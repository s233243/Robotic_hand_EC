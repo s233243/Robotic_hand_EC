{
 "cells": [
  {
   "cell_type": "code",
   "execution_count": 59,
   "id": "naked-colorado",
   "metadata": {
    "_cell_guid": "b1076dfc-b9ad-4769-8c92-a6c4dae69d19",
    "_uuid": "8f2839f25d086af736a60e9eeb907d3b93b6e0e5",
    "execution": {
     "iopub.execute_input": "2021-06-23T13:06:17.591585Z",
     "iopub.status.busy": "2021-06-23T13:06:17.590341Z",
     "iopub.status.idle": "2021-06-23T13:06:24.739792Z",
     "shell.execute_reply": "2021-06-23T13:06:24.738797Z",
     "shell.execute_reply.started": "2021-06-23T11:45:54.614406Z"
    },
    "papermill": {
     "duration": 7.170726,
     "end_time": "2021-06-23T13:06:24.740010",
     "exception": false,
     "start_time": "2021-06-23T13:06:17.569284",
     "status": "completed"
    },
    "tags": []
   },
   "outputs": [],
   "source": [
    "import numpy as np # linear algebra\n",
    "import pandas as pd # data processing, CSV file I/O (e.g. pd.read_csv)\n",
    "import matplotlib.pyplot as plt\n",
    "import seaborn as sns\n",
    "from sklearn.preprocessing import StandardScaler\n",
    "from sklearn.model_selection import train_test_split\n",
    "import tensorflow as tf\n",
    "from sklearn.metrics import accuracy_score\n",
    "from sklearn.metrics import classification_report, confusion_matrix"
   ]
  },
  {
   "cell_type": "code",
   "execution_count": 82,
   "id": "computational-perspective",
   "metadata": {
    "execution": {
     "iopub.execute_input": "2021-06-23T13:06:25.169290Z",
     "iopub.status.busy": "2021-06-23T13:06:25.168455Z",
     "iopub.status.idle": "2021-06-23T13:06:25.183329Z",
     "shell.execute_reply": "2021-06-23T13:06:25.182680Z",
     "shell.execute_reply.started": "2021-06-23T11:52:49.457748Z"
    },
    "papermill": {
     "duration": 0.038161,
     "end_time": "2021-06-23T13:06:25.183495",
     "exception": false,
     "start_time": "2021-06-23T13:06:25.145334",
     "status": "completed"
    },
    "tags": []
   },
   "outputs": [],
   "source": [
    "dfs = [] #for PCA features\n",
    "dfs.append(pd.read_csv(r\"our_input_30/global_pca3.csv\"))\n",
    "# dfs.append(pd.read_csv(r\"our_input_subject2/global_pca3.csv\"))\n",
    "for df in dfs:\n",
    "    df.columns = list(range(len(df.columns)))\n",
    "data= pd.concat([df for df in dfs], axis=0).reset_index(drop=True) "
   ]
  },
  {
   "cell_type": "code",
   "execution_count": 83,
   "id": "light-protection",
   "metadata": {
    "execution": {
     "iopub.execute_input": "2021-06-23T13:06:25.227641Z",
     "iopub.status.busy": "2021-06-23T13:06:25.226932Z",
     "iopub.status.idle": "2021-06-23T13:06:25.277083Z",
     "shell.execute_reply": "2021-06-23T13:06:25.277671Z",
     "shell.execute_reply.started": "2021-06-23T11:52:52.463920Z"
    },
    "papermill": {
     "duration": 0.077623,
     "end_time": "2021-06-23T13:06:25.277892",
     "exception": false,
     "start_time": "2021-06-23T13:06:25.200269",
     "status": "completed"
    },
    "tags": []
   },
   "outputs": [
    {
     "data": {
      "text/html": [
       "<div>\n",
       "<style scoped>\n",
       "    .dataframe tbody tr th:only-of-type {\n",
       "        vertical-align: middle;\n",
       "    }\n",
       "\n",
       "    .dataframe tbody tr th {\n",
       "        vertical-align: top;\n",
       "    }\n",
       "\n",
       "    .dataframe thead th {\n",
       "        text-align: right;\n",
       "    }\n",
       "</style>\n",
       "<table border=\"1\" class=\"dataframe\">\n",
       "  <thead>\n",
       "    <tr style=\"text-align: right;\">\n",
       "      <th></th>\n",
       "      <th>0</th>\n",
       "      <th>1</th>\n",
       "      <th>2</th>\n",
       "      <th>3</th>\n",
       "    </tr>\n",
       "  </thead>\n",
       "  <tbody>\n",
       "    <tr>\n",
       "      <th>0</th>\n",
       "      <td>5.186696</td>\n",
       "      <td>-0.282449</td>\n",
       "      <td>0.381666</td>\n",
       "      <td>0.0</td>\n",
       "    </tr>\n",
       "    <tr>\n",
       "      <th>1</th>\n",
       "      <td>2.270144</td>\n",
       "      <td>0.922515</td>\n",
       "      <td>0.177721</td>\n",
       "      <td>0.0</td>\n",
       "    </tr>\n",
       "    <tr>\n",
       "      <th>2</th>\n",
       "      <td>7.351414</td>\n",
       "      <td>-0.815896</td>\n",
       "      <td>0.684039</td>\n",
       "      <td>0.0</td>\n",
       "    </tr>\n",
       "    <tr>\n",
       "      <th>3</th>\n",
       "      <td>7.281085</td>\n",
       "      <td>-0.349993</td>\n",
       "      <td>0.809293</td>\n",
       "      <td>0.0</td>\n",
       "    </tr>\n",
       "    <tr>\n",
       "      <th>4</th>\n",
       "      <td>8.960811</td>\n",
       "      <td>-0.766667</td>\n",
       "      <td>1.061026</td>\n",
       "      <td>0.0</td>\n",
       "    </tr>\n",
       "    <tr>\n",
       "      <th>...</th>\n",
       "      <td>...</td>\n",
       "      <td>...</td>\n",
       "      <td>...</td>\n",
       "      <td>...</td>\n",
       "    </tr>\n",
       "    <tr>\n",
       "      <th>212</th>\n",
       "      <td>0.247641</td>\n",
       "      <td>0.351363</td>\n",
       "      <td>-0.309008</td>\n",
       "      <td>6.0</td>\n",
       "    </tr>\n",
       "    <tr>\n",
       "      <th>213</th>\n",
       "      <td>1.826329</td>\n",
       "      <td>0.038614</td>\n",
       "      <td>-0.071972</td>\n",
       "      <td>6.0</td>\n",
       "    </tr>\n",
       "    <tr>\n",
       "      <th>214</th>\n",
       "      <td>0.220924</td>\n",
       "      <td>-0.118857</td>\n",
       "      <td>-0.455476</td>\n",
       "      <td>6.0</td>\n",
       "    </tr>\n",
       "    <tr>\n",
       "      <th>215</th>\n",
       "      <td>-0.570330</td>\n",
       "      <td>1.030801</td>\n",
       "      <td>-0.176771</td>\n",
       "      <td>6.0</td>\n",
       "    </tr>\n",
       "    <tr>\n",
       "      <th>216</th>\n",
       "      <td>0.589178</td>\n",
       "      <td>-0.188249</td>\n",
       "      <td>-0.266733</td>\n",
       "      <td>6.0</td>\n",
       "    </tr>\n",
       "  </tbody>\n",
       "</table>\n",
       "<p>217 rows × 4 columns</p>\n",
       "</div>"
      ],
      "text/plain": [
       "            0         1         2    3\n",
       "0    5.186696 -0.282449  0.381666  0.0\n",
       "1    2.270144  0.922515  0.177721  0.0\n",
       "2    7.351414 -0.815896  0.684039  0.0\n",
       "3    7.281085 -0.349993  0.809293  0.0\n",
       "4    8.960811 -0.766667  1.061026  0.0\n",
       "..        ...       ...       ...  ...\n",
       "212  0.247641  0.351363 -0.309008  6.0\n",
       "213  1.826329  0.038614 -0.071972  6.0\n",
       "214  0.220924 -0.118857 -0.455476  6.0\n",
       "215 -0.570330  1.030801 -0.176771  6.0\n",
       "216  0.589178 -0.188249 -0.266733  6.0\n",
       "\n",
       "[217 rows x 4 columns]"
      ]
     },
     "execution_count": 83,
     "metadata": {},
     "output_type": "execute_result"
    }
   ],
   "source": [
    "data"
   ]
  },
  {
   "cell_type": "code",
   "execution_count": 84,
   "id": "bridal-horse",
   "metadata": {
    "execution": {
     "iopub.execute_input": "2021-06-23T13:06:25.374700Z",
     "iopub.status.busy": "2021-06-23T13:06:25.373929Z",
     "iopub.status.idle": "2021-06-23T13:06:25.381668Z",
     "shell.execute_reply": "2021-06-23T13:06:25.381056Z",
     "shell.execute_reply.started": "2021-06-23T11:57:30.790942Z"
    },
    "papermill": {
     "duration": 0.037076,
     "end_time": "2021-06-23T13:06:25.381855",
     "exception": false,
     "start_time": "2021-06-23T13:06:25.344779",
     "status": "completed"
    },
    "tags": []
   },
   "outputs": [],
   "source": [
    "y = data[3].copy() # for features 3PC\n",
    "X = data.drop(3, axis = 1).copy()"
   ]
  },
  {
   "cell_type": "code",
   "execution_count": 85,
   "id": "renewable-challenge",
   "metadata": {
    "execution": {
     "iopub.execute_input": "2021-06-23T13:06:25.426292Z",
     "iopub.status.busy": "2021-06-23T13:06:25.425494Z",
     "iopub.status.idle": "2021-06-23T13:06:25.452615Z",
     "shell.execute_reply": "2021-06-23T13:06:25.451949Z",
     "shell.execute_reply.started": "2021-06-23T11:58:21.452064Z"
    },
    "papermill": {
     "duration": 0.05281,
     "end_time": "2021-06-23T13:06:25.452819",
     "exception": false,
     "start_time": "2021-06-23T13:06:25.400009",
     "status": "completed"
    },
    "tags": []
   },
   "outputs": [],
   "source": [
    "scaler = StandardScaler()\n",
    "X = scaler.fit_transform(X)"
   ]
  },
  {
   "cell_type": "code",
   "execution_count": 86,
   "id": "disturbed-advance",
   "metadata": {
    "execution": {
     "iopub.execute_input": "2021-06-23T13:06:25.497202Z",
     "iopub.status.busy": "2021-06-23T13:06:25.495772Z",
     "iopub.status.idle": "2021-06-23T13:06:25.506763Z",
     "shell.execute_reply": "2021-06-23T13:06:25.506078Z",
     "shell.execute_reply.started": "2021-06-23T11:59:38.175366Z"
    },
    "papermill": {
     "duration": 0.036323,
     "end_time": "2021-06-23T13:06:25.506940",
     "exception": false,
     "start_time": "2021-06-23T13:06:25.470617",
     "status": "completed"
    },
    "tags": []
   },
   "outputs": [],
   "source": [
    "X_train, X_test, y_train, y_test = train_test_split(X, y, train_size = 0.8, random_state = 100)"
   ]
  },
  {
   "cell_type": "code",
   "execution_count": 87,
   "id": "romance-liberia",
   "metadata": {
    "execution": {
     "iopub.execute_input": "2021-06-23T13:06:25.601411Z",
     "iopub.status.busy": "2021-06-23T13:06:25.600626Z",
     "iopub.status.idle": "2021-06-23T13:07:36.220119Z",
     "shell.execute_reply": "2021-06-23T13:07:36.219053Z",
     "shell.execute_reply.started": "2021-06-23T13:04:14.490796Z"
    },
    "papermill": {
     "duration": 70.64917,
     "end_time": "2021-06-23T13:07:36.220344",
     "exception": false,
     "start_time": "2021-06-23T13:06:25.571174",
     "status": "completed"
    },
    "tags": []
   },
   "outputs": [
    {
     "name": "stdout",
     "output_type": "stream",
     "text": [
      "Epoch 1/30\n",
      "\u001b[1m4/4\u001b[0m \u001b[32m━━━━━━━━━━━━━━━━━━━━\u001b[0m\u001b[37m\u001b[0m \u001b[1m2s\u001b[0m 112ms/step - accuracy: 0.1462 - loss: 2.2228 - val_accuracy: 0.1935 - val_loss: 1.9535 - learning_rate: 0.0010\n",
      "Epoch 2/30\n",
      "\u001b[1m4/4\u001b[0m \u001b[32m━━━━━━━━━━━━━━━━━━━━\u001b[0m\u001b[37m\u001b[0m \u001b[1m0s\u001b[0m 28ms/step - accuracy: 0.2292 - loss: 1.9458 - val_accuracy: 0.3548 - val_loss: 1.7599 - learning_rate: 0.0010\n",
      "Epoch 3/30\n",
      "\u001b[1m4/4\u001b[0m \u001b[32m━━━━━━━━━━━━━━━━━━━━\u001b[0m\u001b[37m\u001b[0m \u001b[1m0s\u001b[0m 27ms/step - accuracy: 0.3406 - loss: 1.7333 - val_accuracy: 0.3226 - val_loss: 1.5971 - learning_rate: 0.0010\n",
      "Epoch 4/30\n",
      "\u001b[1m4/4\u001b[0m \u001b[32m━━━━━━━━━━━━━━━━━━━━\u001b[0m\u001b[37m\u001b[0m \u001b[1m0s\u001b[0m 30ms/step - accuracy: 0.4058 - loss: 1.5282 - val_accuracy: 0.3226 - val_loss: 1.4488 - learning_rate: 0.0010\n",
      "Epoch 5/30\n",
      "\u001b[1m4/4\u001b[0m \u001b[32m━━━━━━━━━━━━━━━━━━━━\u001b[0m\u001b[37m\u001b[0m \u001b[1m0s\u001b[0m 29ms/step - accuracy: 0.4635 - loss: 1.2423 - val_accuracy: 0.3226 - val_loss: 1.3480 - learning_rate: 0.0010\n",
      "Epoch 6/30\n",
      "\u001b[1m4/4\u001b[0m \u001b[32m━━━━━━━━━━━━━━━━━━━━\u001b[0m\u001b[37m\u001b[0m \u001b[1m0s\u001b[0m 27ms/step - accuracy: 0.5379 - loss: 1.1158 - val_accuracy: 0.3548 - val_loss: 1.2834 - learning_rate: 0.0010\n",
      "Epoch 7/30\n",
      "\u001b[1m4/4\u001b[0m \u001b[32m━━━━━━━━━━━━━━━━━━━━\u001b[0m\u001b[37m\u001b[0m \u001b[1m0s\u001b[0m 30ms/step - accuracy: 0.5392 - loss: 1.0662 - val_accuracy: 0.4516 - val_loss: 1.2370 - learning_rate: 0.0010\n",
      "Epoch 8/30\n",
      "\u001b[1m4/4\u001b[0m \u001b[32m━━━━━━━━━━━━━━━━━━━━\u001b[0m\u001b[37m\u001b[0m \u001b[1m0s\u001b[0m 26ms/step - accuracy: 0.6021 - loss: 0.9937 - val_accuracy: 0.3871 - val_loss: 1.2302 - learning_rate: 0.0010\n",
      "Epoch 9/30\n",
      "\u001b[1m4/4\u001b[0m \u001b[32m━━━━━━━━━━━━━━━━━━━━\u001b[0m\u001b[37m\u001b[0m \u001b[1m0s\u001b[0m 37ms/step - accuracy: 0.5606 - loss: 0.9716 - val_accuracy: 0.4194 - val_loss: 1.2091 - learning_rate: 0.0010\n",
      "Epoch 10/30\n",
      "\u001b[1m4/4\u001b[0m \u001b[32m━━━━━━━━━━━━━━━━━━━━\u001b[0m\u001b[37m\u001b[0m \u001b[1m0s\u001b[0m 32ms/step - accuracy: 0.5960 - loss: 0.9242 - val_accuracy: 0.4839 - val_loss: 1.1773 - learning_rate: 0.0010\n",
      "Epoch 11/30\n",
      "\u001b[1m4/4\u001b[0m \u001b[32m━━━━━━━━━━━━━━━━━━━━\u001b[0m\u001b[37m\u001b[0m \u001b[1m0s\u001b[0m 27ms/step - accuracy: 0.5913 - loss: 0.8942 - val_accuracy: 0.3548 - val_loss: 1.1877 - learning_rate: 0.0010\n",
      "Epoch 12/30\n",
      "\u001b[1m4/4\u001b[0m \u001b[32m━━━━━━━━━━━━━━━━━━━━\u001b[0m\u001b[37m\u001b[0m \u001b[1m0s\u001b[0m 25ms/step - accuracy: 0.5788 - loss: 0.8610 - val_accuracy: 0.3548 - val_loss: 1.1699 - learning_rate: 0.0010\n",
      "Epoch 13/30\n",
      "\u001b[1m4/4\u001b[0m \u001b[32m━━━━━━━━━━━━━━━━━━━━\u001b[0m\u001b[37m\u001b[0m \u001b[1m0s\u001b[0m 33ms/step - accuracy: 0.6033 - loss: 0.8115 - val_accuracy: 0.3871 - val_loss: 1.1343 - learning_rate: 0.0010\n",
      "Epoch 14/30\n",
      "\u001b[1m4/4\u001b[0m \u001b[32m━━━━━━━━━━━━━━━━━━━━\u001b[0m\u001b[37m\u001b[0m \u001b[1m0s\u001b[0m 33ms/step - accuracy: 0.6150 - loss: 0.8028 - val_accuracy: 0.3871 - val_loss: 1.1185 - learning_rate: 0.0010\n",
      "Epoch 15/30\n",
      "\u001b[1m4/4\u001b[0m \u001b[32m━━━━━━━━━━━━━━━━━━━━\u001b[0m\u001b[37m\u001b[0m \u001b[1m0s\u001b[0m 28ms/step - accuracy: 0.5942 - loss: 0.8042 - val_accuracy: 0.3226 - val_loss: 1.1570 - learning_rate: 0.0010\n",
      "Epoch 16/30\n",
      "\u001b[1m4/4\u001b[0m \u001b[32m━━━━━━━━━━━━━━━━━━━━\u001b[0m\u001b[37m\u001b[0m \u001b[1m0s\u001b[0m 38ms/step - accuracy: 0.6331 - loss: 0.8140 - val_accuracy: 0.3871 - val_loss: 1.1649 - learning_rate: 0.0010\n",
      "Epoch 17/30\n",
      "\u001b[1m4/4\u001b[0m \u001b[32m━━━━━━━━━━━━━━━━━━━━\u001b[0m\u001b[37m\u001b[0m \u001b[1m0s\u001b[0m 26ms/step - accuracy: 0.6771 - loss: 0.7648 - val_accuracy: 0.3871 - val_loss: 1.1829 - learning_rate: 0.0010\n",
      "Epoch 18/30\n",
      "\u001b[1m4/4\u001b[0m \u001b[32m━━━━━━━━━━━━━━━━━━━━\u001b[0m\u001b[37m\u001b[0m \u001b[1m0s\u001b[0m 29ms/step - accuracy: 0.6604 - loss: 0.7679 - val_accuracy: 0.3871 - val_loss: 1.1747 - learning_rate: 0.0010\n",
      "Epoch 19/30\n",
      "\u001b[1m4/4\u001b[0m \u001b[32m━━━━━━━━━━━━━━━━━━━━\u001b[0m\u001b[37m\u001b[0m \u001b[1m0s\u001b[0m 27ms/step - accuracy: 0.6394 - loss: 0.7595 - val_accuracy: 0.3871 - val_loss: 1.1536 - learning_rate: 0.0010\n",
      "Epoch 20/30\n",
      "\u001b[1m4/4\u001b[0m \u001b[32m━━━━━━━━━━━━━━━━━━━━\u001b[0m\u001b[37m\u001b[0m \u001b[1m0s\u001b[0m 33ms/step - accuracy: 0.6619 - loss: 0.7391 - val_accuracy: 0.3871 - val_loss: 1.1843 - learning_rate: 0.0010\n",
      "Epoch 21/30\n",
      "\u001b[1m4/4\u001b[0m \u001b[32m━━━━━━━━━━━━━━━━━━━━\u001b[0m\u001b[37m\u001b[0m \u001b[1m0s\u001b[0m 21ms/step - accuracy: 0.6027 - loss: 0.7716 - val_accuracy: 0.4194 - val_loss: 1.2054 - learning_rate: 0.0010\n",
      "Epoch 22/30\n",
      "\u001b[1m4/4\u001b[0m \u001b[32m━━━━━━━━━━━━━━━━━━━━\u001b[0m\u001b[37m\u001b[0m \u001b[1m0s\u001b[0m 16ms/step - accuracy: 0.7560 - loss: 0.6738 - val_accuracy: 0.4516 - val_loss: 1.2098 - learning_rate: 0.0010\n",
      "Epoch 23/30\n",
      "\u001b[1m4/4\u001b[0m \u001b[32m━━━━━━━━━━━━━━━━━━━━\u001b[0m\u001b[37m\u001b[0m \u001b[1m0s\u001b[0m 31ms/step - accuracy: 0.7065 - loss: 0.7309 - val_accuracy: 0.5161 - val_loss: 1.1695 - learning_rate: 0.0010\n",
      "Epoch 24/30\n",
      "\u001b[1m4/4\u001b[0m \u001b[32m━━━━━━━━━━━━━━━━━━━━\u001b[0m\u001b[37m\u001b[0m \u001b[1m0s\u001b[0m 28ms/step - accuracy: 0.6660 - loss: 0.7109 - val_accuracy: 0.4516 - val_loss: 1.1513 - learning_rate: 0.0010\n",
      "Epoch 25/30\n",
      "\u001b[1m4/4\u001b[0m \u001b[32m━━━━━━━━━━━━━━━━━━━━\u001b[0m\u001b[37m\u001b[0m \u001b[1m0s\u001b[0m 23ms/step - accuracy: 0.7077 - loss: 0.6813 - val_accuracy: 0.4194 - val_loss: 1.1534 - learning_rate: 1.0000e-04\n",
      "Epoch 26/30\n",
      "\u001b[1m4/4\u001b[0m \u001b[32m━━━━━━━━━━━━━━━━━━━━\u001b[0m\u001b[37m\u001b[0m \u001b[1m0s\u001b[0m 21ms/step - accuracy: 0.6306 - loss: 0.6859 - val_accuracy: 0.4516 - val_loss: 1.1562 - learning_rate: 1.0000e-04\n",
      "Epoch 27/30\n",
      "\u001b[1m4/4\u001b[0m \u001b[32m━━━━━━━━━━━━━━━━━━━━\u001b[0m\u001b[37m\u001b[0m \u001b[1m0s\u001b[0m 26ms/step - accuracy: 0.6331 - loss: 0.7777 - val_accuracy: 0.4516 - val_loss: 1.1543 - learning_rate: 1.0000e-04\n",
      "Epoch 28/30\n",
      "\u001b[1m4/4\u001b[0m \u001b[32m━━━━━━━━━━━━━━━━━━━━\u001b[0m\u001b[37m\u001b[0m \u001b[1m0s\u001b[0m 24ms/step - accuracy: 0.7056 - loss: 0.6912 - val_accuracy: 0.4839 - val_loss: 1.1523 - learning_rate: 1.0000e-04\n",
      "Epoch 29/30\n",
      "\u001b[1m4/4\u001b[0m \u001b[32m━━━━━━━━━━━━━━━━━━━━\u001b[0m\u001b[37m\u001b[0m \u001b[1m0s\u001b[0m 23ms/step - accuracy: 0.7175 - loss: 0.6416 - val_accuracy: 0.4839 - val_loss: 1.1495 - learning_rate: 1.0000e-04\n",
      "Epoch 30/30\n",
      "\u001b[1m4/4\u001b[0m \u001b[32m━━━━━━━━━━━━━━━━━━━━\u001b[0m\u001b[37m\u001b[0m \u001b[1m0s\u001b[0m 26ms/step - accuracy: 0.6329 - loss: 0.7356 - val_accuracy: 0.5484 - val_loss: 1.1516 - learning_rate: 1.0000e-04\n"
     ]
    }
   ],
   "source": [
    "inputs = tf.keras.Input(shape = (X.shape[1], ))\n",
    "x = tf.keras.layers.Dense(1024, activation = 'relu')(inputs)\n",
    "x = tf.keras.layers.Dropout(0.4)(x)\n",
    "x = tf.keras.layers.Dense(512, activation = 'relu')(x)\n",
    "x = tf.keras.layers.Dropout(0.2)(x)\n",
    "x = tf.keras.layers.Dense(512, activation = 'sigmoid')(x)\n",
    "x = tf.keras.layers.Dropout(0.4)(x)\n",
    "outputs = tf.keras.layers.Dense(7, activation = 'softmax')(x)\n",
    "\n",
    "model = tf.keras.Model(inputs, outputs)\n",
    "\n",
    "model.compile(\n",
    "    optimizer = 'adam',\n",
    "    loss = 'sparse_categorical_crossentropy',\n",
    "    metrics = ['accuracy']\n",
    ")\n",
    "\n",
    "batch_size = 32\n",
    "epochs = 30 #30 before\n",
    "\n",
    "history = model.fit(\n",
    "    X_train,\n",
    "    y_train,\n",
    "    validation_split = 0.2,\n",
    "    batch_size = batch_size,\n",
    "    epochs = epochs,\n",
    "    callbacks = [\n",
    "        tf.keras.callbacks.ReduceLROnPlateau()\n",
    "    ]\n",
    ")"
   ]
  },
  {
   "cell_type": "code",
   "execution_count": 88,
   "id": "prepared-fishing",
   "metadata": {
    "execution": {
     "iopub.execute_input": "2021-06-23T13:07:37.002243Z",
     "iopub.status.busy": "2021-06-23T13:07:37.001371Z",
     "iopub.status.idle": "2021-06-23T13:07:37.254513Z",
     "shell.execute_reply": "2021-06-23T13:07:37.253797Z",
     "shell.execute_reply.started": "2021-06-23T13:05:18.376919Z"
    },
    "papermill": {
     "duration": 0.658497,
     "end_time": "2021-06-23T13:07:37.254686",
     "exception": false,
     "start_time": "2021-06-23T13:07:36.596189",
     "status": "completed"
    },
    "tags": []
   },
   "outputs": [
    {
     "data": {
      "image/png": "[encoded data removed]",
      "text/plain": [
       "<Figure size 2000x1000 with 1 Axes>"
      ]
     },
     "metadata": {},
     "output_type": "display_data"
    }
   ],
   "source": [
    "plt.figure(figsize = (20, 10))\n",
    "\n",
    "plt.plot(range(epochs), history.history['loss'], label = 'Training loss')\n",
    "plt.plot(range(epochs), history.history['val_loss'], label = 'Validation loss')\n",
    "\n",
    "plt.xlabel('Epoch')\n",
    "plt.ylabel('Loss')\n",
    "plt.legend()\n",
    "\n",
    "plt.show()"
   ]
  },
  {
   "cell_type": "code",
   "execution_count": 89,
   "id": "studied-persian",
   "metadata": {
    "execution": {
     "iopub.execute_input": "2021-06-23T13:07:38.006116Z",
     "iopub.status.busy": "2021-06-23T13:07:38.004957Z",
     "iopub.status.idle": "2021-06-23T13:07:38.423652Z",
     "shell.execute_reply": "2021-06-23T13:07:38.422912Z",
     "shell.execute_reply.started": "2021-06-23T13:05:31.336658Z"
    },
    "papermill": {
     "duration": 0.800925,
     "end_time": "2021-06-23T13:07:38.423843",
     "exception": false,
     "start_time": "2021-06-23T13:07:37.622918",
     "status": "completed"
    },
    "tags": []
   },
   "outputs": [
    {
     "name": "stdout",
     "output_type": "stream",
     "text": [
      "\u001b[1m3/3\u001b[0m \u001b[32m━━━━━━━━━━━━━━━━━━━━\u001b[0m\u001b[37m\u001b[0m \u001b[1m0s\u001b[0m 14ms/step - accuracy: 0.5071 - loss: 1.0492\n"
     ]
    },
    {
     "data": {
      "text/plain": [
       "[0.9838666915893555, 0.5454545617103577]"
      ]
     },
     "execution_count": 89,
     "metadata": {},
     "output_type": "execute_result"
    }
   ],
   "source": [
    "model.evaluate(X_test, y_test)"
   ]
  },
  {
   "cell_type": "code",
   "execution_count": 90,
   "id": "special-reviewer",
   "metadata": {
    "execution": {
     "iopub.execute_input": "2021-06-23T13:07:39.187835Z",
     "iopub.status.busy": "2021-06-23T13:07:39.186712Z",
     "iopub.status.idle": "2021-06-23T13:07:39.647699Z",
     "shell.execute_reply": "2021-06-23T13:07:39.647078Z",
     "shell.execute_reply.started": "2021-06-23T13:05:33.857247Z"
    },
    "papermill": {
     "duration": 0.842544,
     "end_time": "2021-06-23T13:07:39.647910",
     "exception": false,
     "start_time": "2021-06-23T13:07:38.805366",
     "status": "completed"
    },
    "tags": []
   },
   "outputs": [
    {
     "name": "stdout",
     "output_type": "stream",
     "text": [
      "\u001b[1m3/3\u001b[0m \u001b[32m━━━━━━━━━━━━━━━━━━━━\u001b[0m\u001b[37m\u001b[0m \u001b[1m0s\u001b[0m 25ms/step\n"
     ]
    }
   ],
   "source": [
    "y_true = np.array(y_test)\n",
    "y_pred = np.array(list(map(lambda x : np.argmax(x), model.predict(X_test))))"
   ]
  },
  {
   "cell_type": "code",
   "execution_count": 91,
   "id": "czech-shame",
   "metadata": {
    "execution": {
     "iopub.execute_input": "2021-06-23T13:07:40.408764Z",
     "iopub.status.busy": "2021-06-23T13:07:40.407568Z",
     "iopub.status.idle": "2021-06-23T13:07:40.583693Z",
     "shell.execute_reply": "2021-06-23T13:07:40.583039Z",
     "shell.execute_reply.started": "2021-06-23T13:05:34.319967Z"
    },
    "papermill": {
     "duration": 0.558346,
     "end_time": "2021-06-23T13:07:40.583901",
     "exception": false,
     "start_time": "2021-06-23T13:07:40.025555",
     "status": "completed"
    },
    "tags": []
   },
   "outputs": [
    {
     "data": {
      "image/png": "[encoded data removed]",
      "text/plain": [
       "<Figure size 600x600 with 1 Axes>"
      ]
     },
     "metadata": {},
     "output_type": "display_data"
    }
   ],
   "source": [
    "cm = confusion_matrix(y_true, y_pred)\n",
    "\n",
    "plt.figure(figsize = (6, 6))\n",
    "sns.heatmap(cm, annot = True, fmt = 'g', cmap = 'Blues', cbar = False)\n",
    "plt.xlabel('Predicted')\n",
    "plt.ylabel('Actual')\n",
    "plt.title('Confusion Matrix')\n",
    "plt.show()"
   ]
  },
  {
   "cell_type": "code",
   "execution_count": 92,
   "id": "innovative-sixth",
   "metadata": {
    "execution": {
     "iopub.execute_input": "2021-06-23T13:07:41.345677Z",
     "iopub.status.busy": "2021-06-23T13:07:41.344942Z",
     "iopub.status.idle": "2021-06-23T13:07:41.362401Z",
     "shell.execute_reply": "2021-06-23T13:07:41.361652Z",
     "shell.execute_reply.started": "2021-06-23T13:05:37.676612Z"
    },
    "papermill": {
     "duration": 0.399284,
     "end_time": "2021-06-23T13:07:41.362579",
     "exception": false,
     "start_time": "2021-06-23T13:07:40.963295",
     "status": "completed"
    },
    "tags": []
   },
   "outputs": [
    {
     "name": "stdout",
     "output_type": "stream",
     "text": [
      "              precision    recall  f1-score   support\n",
      "\n",
      "         0.0       0.64      1.00      0.78         7\n",
      "         1.0       0.40      0.25      0.31         8\n",
      "         2.0       0.36      0.36      0.36        11\n",
      "         3.0       0.71      1.00      0.83        10\n",
      "         4.0       0.36      0.44      0.40         9\n",
      "         5.0       0.78      0.50      0.61        14\n",
      "         6.0       0.40      0.29      0.33         7\n",
      "\n",
      "    accuracy                           0.55        66\n",
      "   macro avg       0.52      0.55      0.52        66\n",
      "weighted avg       0.54      0.55      0.53        66\n",
      "\n"
     ]
    }
   ],
   "source": [
    "print(classification_report(y_true, y_pred))"
   ]
  }
 ],
 "metadata": {
  "kernelspec": {
   "display_name": "Python 3",
   "language": "python",
   "name": "python3"
  },
  "language_info": {
   "codemirror_mode": {
    "name": "ipython",
    "version": 3
   },
   "file_extension": ".py",
   "mimetype": "text/x-python",
   "name": "python",
   "nbconvert_exporter": "python",
   "pygments_lexer": "ipython3",
   "version": "3.12.3"
  },
  "papermill": {
   "default_parameters": {},
   "duration": 93.360878,
   "end_time": "2021-06-23T13:07:44.115073",
   "environment_variables": {},
   "exception": null,
   "input_path": "__notebook__.ipynb",
   "output_path": "__notebook__.ipynb",
   "parameters": {},
   "start_time": "2021-06-23T13:06:10.754195",
   "version": "2.3.2"
  }
 },
 "nbformat": 4,
 "nbformat_minor": 5
}
