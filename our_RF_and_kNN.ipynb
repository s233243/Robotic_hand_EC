{
 "cells": [
  {
   "cell_type": "code",
   "execution_count": 246,
   "metadata": {
    "execution": {
     "iopub.execute_input": "2021-02-13T04:18:39.163538Z",
     "iopub.status.busy": "2021-02-13T04:18:39.162480Z",
     "iopub.status.idle": "2021-02-13T04:18:39.185461Z",
     "shell.execute_reply": "2021-02-13T04:18:39.186448Z"
    },
    "papermill": {
     "duration": 0.05117,
     "end_time": "2021-02-13T04:18:39.186763",
     "exception": false,
     "start_time": "2021-02-13T04:18:39.135593",
     "status": "completed"
    },
    "tags": []
   },
   "outputs": [],
   "source": [
    "import numpy as np # linear algebra\n",
    "import pandas as pd # data processing, CSV file I/O (e.g. pd.read_csv)\n",
    "from sklearn.preprocessing import LabelEncoder\n",
    "from sklearn.metrics import classification_report, confusion_matrix\n",
    "import os\n",
    "import matplotlib.pyplot as plt\n",
    "import seaborn as sns"
   ]
  },
  {
   "cell_type": "code",
   "execution_count": 323,
   "metadata": {
    "execution": {
     "iopub.execute_input": "2021-02-13T04:18:48.491515Z",
     "iopub.status.busy": "2021-02-13T04:18:48.490263Z",
     "iopub.status.idle": "2021-02-13T04:18:48.551003Z",
     "shell.execute_reply": "2021-02-13T04:18:48.549972Z"
    },
    "papermill": {
     "duration": 0.09378,
     "end_time": "2021-02-13T04:18:48.551233",
     "exception": false,
     "start_time": "2021-02-13T04:18:48.457453",
     "status": "completed"
    },
    "tags": []
   },
   "outputs": [],
   "source": [
    "# import the dataset to train and evaluate the model\n",
    "df = [] #for PCA features\n",
    "# df.append(pd.read_csv(r\"our_input_30/global_pca4.csv\"))\n",
    "df.append(pd.read_csv(r\"our_input_subject2/global_pca4.csv\"))\n",
    "for dfs in df:\n",
    "    dfs.columns = list(range(len(dfs.columns)))\n",
    "df= pd.concat([dfs for dfs in df], axis=0).reset_index(drop=True)"
   ]
  },
  {
   "cell_type": "code",
   "execution_count": 324,
   "metadata": {},
   "outputs": [],
   "source": [
    "# import the new dataset we want to apply the classifier on\n",
    "df_mix=[]\n",
    "# df_mix.append(pd.read_csv(r\"our_input_30/mix_pca4.csv\",header=None))\n",
    "df_mix.append(pd.read_csv(r\"our_input_subject2/mix_pca4.csv\",header=None))\n",
    "for dfs in df_mix:\n",
    "    dfs.columns = list(range(len(dfs.columns)))\n",
    "df_mix= pd.concat(df_mix, axis=0).reset_index(drop=True)"
   ]
  },
  {
   "cell_type": "code",
   "execution_count": 325,
   "metadata": {
    "execution": {
     "iopub.execute_input": "2021-02-13T04:18:56.784778Z",
     "iopub.status.busy": "2021-02-13T04:18:56.783750Z",
     "iopub.status.idle": "2021-02-13T04:18:56.787296Z",
     "shell.execute_reply": "2021-02-13T04:18:56.786634Z"
    },
    "papermill": {
     "duration": 0.066512,
     "end_time": "2021-02-13T04:18:56.787409",
     "exception": false,
     "start_time": "2021-02-13T04:18:56.720897",
     "status": "completed"
    },
    "tags": []
   },
   "outputs": [],
   "source": [
    "# extraction for features 3PC\n",
    "X = df.drop(4,axis=1)\n",
    "y = df.iloc[:, 4]              # output required\n",
    "\n",
    "#extraction for mixed serie\n",
    "X_mix = df_mix.drop(4,axis=1)\n",
    "y_mix = df_mix.iloc[:, 4]              # output required\n"
   ]
  },
  {
   "cell_type": "code",
   "execution_count": 326,
   "metadata": {
    "execution": {
     "iopub.execute_input": "2021-02-13T04:18:56.915377Z",
     "iopub.status.busy": "2021-02-13T04:18:56.914365Z",
     "iopub.status.idle": "2021-02-13T04:18:56.918802Z",
     "shell.execute_reply": "2021-02-13T04:18:56.919293Z"
    },
    "papermill": {
     "duration": 0.077794,
     "end_time": "2021-02-13T04:18:56.919442",
     "exception": false,
     "start_time": "2021-02-13T04:18:56.841648",
     "status": "completed"
    },
    "tags": []
   },
   "outputs": [
    {
     "data": {
      "text/html": [
       "<div>\n",
       "<style scoped>\n",
       "    .dataframe tbody tr th:only-of-type {\n",
       "        vertical-align: middle;\n",
       "    }\n",
       "\n",
       "    .dataframe tbody tr th {\n",
       "        vertical-align: top;\n",
       "    }\n",
       "\n",
       "    .dataframe thead th {\n",
       "        text-align: right;\n",
       "    }\n",
       "</style>\n",
       "<table border=\"1\" class=\"dataframe\">\n",
       "  <thead>\n",
       "    <tr style=\"text-align: right;\">\n",
       "      <th></th>\n",
       "      <th>0</th>\n",
       "      <th>1</th>\n",
       "      <th>2</th>\n",
       "      <th>3</th>\n",
       "    </tr>\n",
       "  </thead>\n",
       "  <tbody>\n",
       "    <tr>\n",
       "      <th>0</th>\n",
       "      <td>0.587198</td>\n",
       "      <td>-1.354081</td>\n",
       "      <td>-0.118923</td>\n",
       "      <td>-0.078275</td>\n",
       "    </tr>\n",
       "    <tr>\n",
       "      <th>1</th>\n",
       "      <td>0.172102</td>\n",
       "      <td>-0.790283</td>\n",
       "      <td>-0.269086</td>\n",
       "      <td>-0.109106</td>\n",
       "    </tr>\n",
       "    <tr>\n",
       "      <th>2</th>\n",
       "      <td>-0.232150</td>\n",
       "      <td>-1.220318</td>\n",
       "      <td>-0.229603</td>\n",
       "      <td>-0.108407</td>\n",
       "    </tr>\n",
       "    <tr>\n",
       "      <th>3</th>\n",
       "      <td>1.315346</td>\n",
       "      <td>-1.469767</td>\n",
       "      <td>-0.014981</td>\n",
       "      <td>-0.103934</td>\n",
       "    </tr>\n",
       "    <tr>\n",
       "      <th>4</th>\n",
       "      <td>-2.089986</td>\n",
       "      <td>-0.357387</td>\n",
       "      <td>-0.663129</td>\n",
       "      <td>0.303967</td>\n",
       "    </tr>\n",
       "    <tr>\n",
       "      <th>5</th>\n",
       "      <td>-2.196705</td>\n",
       "      <td>-0.705555</td>\n",
       "      <td>-0.324481</td>\n",
       "      <td>0.185481</td>\n",
       "    </tr>\n",
       "    <tr>\n",
       "      <th>6</th>\n",
       "      <td>-4.006944</td>\n",
       "      <td>3.032084</td>\n",
       "      <td>-0.008015</td>\n",
       "      <td>0.007919</td>\n",
       "    </tr>\n",
       "    <tr>\n",
       "      <th>7</th>\n",
       "      <td>-1.880145</td>\n",
       "      <td>-1.965357</td>\n",
       "      <td>0.062506</td>\n",
       "      <td>0.103368</td>\n",
       "    </tr>\n",
       "    <tr>\n",
       "      <th>8</th>\n",
       "      <td>1.349267</td>\n",
       "      <td>-0.367569</td>\n",
       "      <td>-0.119271</td>\n",
       "      <td>-0.273578</td>\n",
       "    </tr>\n",
       "    <tr>\n",
       "      <th>9</th>\n",
       "      <td>4.569171</td>\n",
       "      <td>1.172164</td>\n",
       "      <td>0.128981</td>\n",
       "      <td>0.054651</td>\n",
       "    </tr>\n",
       "    <tr>\n",
       "      <th>10</th>\n",
       "      <td>3.674275</td>\n",
       "      <td>1.026852</td>\n",
       "      <td>-0.015044</td>\n",
       "      <td>-0.100970</td>\n",
       "    </tr>\n",
       "    <tr>\n",
       "      <th>11</th>\n",
       "      <td>5.458892</td>\n",
       "      <td>1.249549</td>\n",
       "      <td>0.288820</td>\n",
       "      <td>0.258909</td>\n",
       "    </tr>\n",
       "    <tr>\n",
       "      <th>12</th>\n",
       "      <td>-3.100636</td>\n",
       "      <td>-0.736416</td>\n",
       "      <td>1.465593</td>\n",
       "      <td>0.029467</td>\n",
       "    </tr>\n",
       "    <tr>\n",
       "      <th>13</th>\n",
       "      <td>-3.619684</td>\n",
       "      <td>2.486084</td>\n",
       "      <td>-0.183367</td>\n",
       "      <td>-0.169494</td>\n",
       "    </tr>\n",
       "  </tbody>\n",
       "</table>\n",
       "</div>"
      ],
      "text/plain": [
       "           0         1         2         3\n",
       "0   0.587198 -1.354081 -0.118923 -0.078275\n",
       "1   0.172102 -0.790283 -0.269086 -0.109106\n",
       "2  -0.232150 -1.220318 -0.229603 -0.108407\n",
       "3   1.315346 -1.469767 -0.014981 -0.103934\n",
       "4  -2.089986 -0.357387 -0.663129  0.303967\n",
       "5  -2.196705 -0.705555 -0.324481  0.185481\n",
       "6  -4.006944  3.032084 -0.008015  0.007919\n",
       "7  -1.880145 -1.965357  0.062506  0.103368\n",
       "8   1.349267 -0.367569 -0.119271 -0.273578\n",
       "9   4.569171  1.172164  0.128981  0.054651\n",
       "10  3.674275  1.026852 -0.015044 -0.100970\n",
       "11  5.458892  1.249549  0.288820  0.258909\n",
       "12 -3.100636 -0.736416  1.465593  0.029467\n",
       "13 -3.619684  2.486084 -0.183367 -0.169494"
      ]
     },
     "execution_count": 326,
     "metadata": {},
     "output_type": "execute_result"
    }
   ],
   "source": [
    "X_mix"
   ]
  },
  {
   "cell_type": "code",
   "execution_count": 327,
   "metadata": {
    "execution": {
     "iopub.execute_input": "2021-02-13T04:18:57.037508Z",
     "iopub.status.busy": "2021-02-13T04:18:57.036727Z",
     "iopub.status.idle": "2021-02-13T04:18:57.173246Z",
     "shell.execute_reply": "2021-02-13T04:18:57.172606Z"
    },
    "papermill": {
     "duration": 0.198215,
     "end_time": "2021-02-13T04:18:57.173371",
     "exception": false,
     "start_time": "2021-02-13T04:18:56.975156",
     "status": "completed"
    },
    "tags": []
   },
   "outputs": [],
   "source": [
    "from sklearn.model_selection import train_test_split\n",
    "X_train, X_test, y_train, y_test = train_test_split(X, y, test_size=0.20, random_state=42)"
   ]
  },
  {
   "cell_type": "code",
   "execution_count": 328,
   "metadata": {},
   "outputs": [
    {
     "data": {
      "text/html": [
       "<div>\n",
       "<style scoped>\n",
       "    .dataframe tbody tr th:only-of-type {\n",
       "        vertical-align: middle;\n",
       "    }\n",
       "\n",
       "    .dataframe tbody tr th {\n",
       "        vertical-align: top;\n",
       "    }\n",
       "\n",
       "    .dataframe thead th {\n",
       "        text-align: right;\n",
       "    }\n",
       "</style>\n",
       "<table border=\"1\" class=\"dataframe\">\n",
       "  <thead>\n",
       "    <tr style=\"text-align: right;\">\n",
       "      <th></th>\n",
       "      <th>0</th>\n",
       "      <th>1</th>\n",
       "      <th>2</th>\n",
       "      <th>3</th>\n",
       "    </tr>\n",
       "  </thead>\n",
       "  <tbody>\n",
       "    <tr>\n",
       "      <th>5</th>\n",
       "      <td>-0.393327</td>\n",
       "      <td>-0.887152</td>\n",
       "      <td>-0.223432</td>\n",
       "      <td>1.262862</td>\n",
       "    </tr>\n",
       "    <tr>\n",
       "      <th>135</th>\n",
       "      <td>6.130111</td>\n",
       "      <td>0.498313</td>\n",
       "      <td>-0.171171</td>\n",
       "      <td>-0.490859</td>\n",
       "    </tr>\n",
       "    <tr>\n",
       "      <th>122</th>\n",
       "      <td>7.199507</td>\n",
       "      <td>3.227252</td>\n",
       "      <td>-0.486614</td>\n",
       "      <td>-1.827861</td>\n",
       "    </tr>\n",
       "    <tr>\n",
       "      <th>167</th>\n",
       "      <td>-2.812509</td>\n",
       "      <td>-0.551885</td>\n",
       "      <td>2.461181</td>\n",
       "      <td>-1.021278</td>\n",
       "    </tr>\n",
       "    <tr>\n",
       "      <th>85</th>\n",
       "      <td>-1.779951</td>\n",
       "      <td>0.531676</td>\n",
       "      <td>0.173375</td>\n",
       "      <td>-0.044410</td>\n",
       "    </tr>\n",
       "    <tr>\n",
       "      <th>...</th>\n",
       "      <td>...</td>\n",
       "      <td>...</td>\n",
       "      <td>...</td>\n",
       "      <td>...</td>\n",
       "    </tr>\n",
       "    <tr>\n",
       "      <th>106</th>\n",
       "      <td>-0.524510</td>\n",
       "      <td>-0.643526</td>\n",
       "      <td>0.190420</td>\n",
       "      <td>-0.174027</td>\n",
       "    </tr>\n",
       "    <tr>\n",
       "      <th>14</th>\n",
       "      <td>-0.182965</td>\n",
       "      <td>-0.681458</td>\n",
       "      <td>-0.398488</td>\n",
       "      <td>1.200848</td>\n",
       "    </tr>\n",
       "    <tr>\n",
       "      <th>92</th>\n",
       "      <td>7.228347</td>\n",
       "      <td>1.454113</td>\n",
       "      <td>-0.829201</td>\n",
       "      <td>-1.238449</td>\n",
       "    </tr>\n",
       "    <tr>\n",
       "      <th>179</th>\n",
       "      <td>0.233814</td>\n",
       "      <td>0.100262</td>\n",
       "      <td>-0.988617</td>\n",
       "      <td>-1.251542</td>\n",
       "    </tr>\n",
       "    <tr>\n",
       "      <th>102</th>\n",
       "      <td>0.756162</td>\n",
       "      <td>0.354985</td>\n",
       "      <td>-0.833560</td>\n",
       "      <td>-0.287000</td>\n",
       "    </tr>\n",
       "  </tbody>\n",
       "</table>\n",
       "<p>155 rows × 4 columns</p>\n",
       "</div>"
      ],
      "text/plain": [
       "            0         1         2         3\n",
       "5   -0.393327 -0.887152 -0.223432  1.262862\n",
       "135  6.130111  0.498313 -0.171171 -0.490859\n",
       "122  7.199507  3.227252 -0.486614 -1.827861\n",
       "167 -2.812509 -0.551885  2.461181 -1.021278\n",
       "85  -1.779951  0.531676  0.173375 -0.044410\n",
       "..        ...       ...       ...       ...\n",
       "106 -0.524510 -0.643526  0.190420 -0.174027\n",
       "14  -0.182965 -0.681458 -0.398488  1.200848\n",
       "92   7.228347  1.454113 -0.829201 -1.238449\n",
       "179  0.233814  0.100262 -0.988617 -1.251542\n",
       "102  0.756162  0.354985 -0.833560 -0.287000\n",
       "\n",
       "[155 rows x 4 columns]"
      ]
     },
     "execution_count": 328,
     "metadata": {},
     "output_type": "execute_result"
    }
   ],
   "source": [
    "X_train"
   ]
  },
  {
   "cell_type": "code",
   "execution_count": 329,
   "metadata": {},
   "outputs": [
    {
     "data": {
      "text/plain": [
       "5      0.0\n",
       "135    4.0\n",
       "122    4.0\n",
       "167    5.0\n",
       "85     2.0\n",
       "      ... \n",
       "106    3.0\n",
       "14     0.0\n",
       "92     3.0\n",
       "179    6.0\n",
       "102    3.0\n",
       "Name: 4, Length: 155, dtype: float64"
      ]
     },
     "execution_count": 329,
     "metadata": {},
     "output_type": "execute_result"
    }
   ],
   "source": [
    "y_train"
   ]
  },
  {
   "cell_type": "code",
   "execution_count": 330,
   "metadata": {
    "execution": {
     "iopub.execute_input": "2021-02-13T04:18:57.292444Z",
     "iopub.status.busy": "2021-02-13T04:18:57.291735Z",
     "iopub.status.idle": "2021-02-13T04:20:33.089162Z",
     "shell.execute_reply": "2021-02-13T04:20:33.088531Z"
    },
    "papermill": {
     "duration": 95.861446,
     "end_time": "2021-02-13T04:20:33.089285",
     "exception": false,
     "start_time": "2021-02-13T04:18:57.227839",
     "status": "completed"
    },
    "tags": []
   },
   "outputs": [
    {
     "data": {
      "image/png": "[encoded data removed]",
      "text/plain": [
       "<Figure size 640x480 with 1 Axes>"
      ]
     },
     "metadata": {},
     "output_type": "display_data"
    }
   ],
   "source": [
    "from sklearn.neighbors import KNeighborsClassifier # applying KNN for classification\n",
    "k_value = [] \n",
    "k_accuracy = []\n",
    "\n",
    "for i in range(1,22):\n",
    "    knn = KNeighborsClassifier(n_neighbors=i)\n",
    "    knn.fit(X_train,y_train)\n",
    "    \n",
    "    score = knn.score(X_test,y_test)\n",
    "    k_value.append(i)\n",
    "    k_accuracy.append(score)\n",
    "# for i,j in zip(k_value,k_accuracy):\n",
    "    # print(i,j)\n",
    "\n",
    "#Finding k for max acc\n",
    "plt.plot(range(1,22),k_accuracy,color = \"blue\")\n",
    "plt.xlabel(\"K value\")\n",
    "plt.ylabel(\"Accuracy\")\n",
    "plt.title(\"Accuracy plot for KNN Classifier\")\n",
    "plt.show()"
   ]
  },
  {
   "cell_type": "code",
   "execution_count": 331,
   "metadata": {},
   "outputs": [
    {
     "data": {
      "image/png": "[encoded data removed]",
      "text/plain": [
       "<Figure size 600x600 with 1 Axes>"
      ]
     },
     "metadata": {},
     "output_type": "display_data"
    }
   ],
   "source": [
    "from sklearn.metrics import confusion_matrix\n",
    "# y_pred = np.array(list(map(lambda x: np.argmax(x), knn.predict(X_test))))\n",
    "y_pred=knn.predict(X_test)\n",
    "cm = confusion_matrix(y_test, y_pred)\n",
    "\n",
    "plt.figure(figsize=(6, 6))\n",
    "sns.heatmap(cm, annot=True, fmt='g', cmap='Blues', cbar=False)\n",
    "plt.xlabel(\"Predicted\")\n",
    "plt.ylabel(\"Actual\")\n",
    "plt.title(\"Confusion Matrix for K-neighbors classifier\")\n",
    "plt.show()\n"
   ]
  },
  {
   "cell_type": "code",
   "execution_count": 332,
   "metadata": {},
   "outputs": [
    {
     "name": "stdout",
     "output_type": "stream",
     "text": [
      "              precision    recall  f1-score   support\n",
      "\n",
      "         0.0       1.00      0.86      0.92         7\n",
      "         1.0       0.17      1.00      0.29         2\n",
      "         2.0       0.50      0.43      0.46         7\n",
      "         3.0       1.00      0.40      0.57        10\n",
      "         4.0       0.80      1.00      0.89         4\n",
      "         5.0       0.67      0.57      0.62         7\n",
      "         6.0       0.00      0.00      0.00         2\n",
      "\n",
      "    accuracy                           0.59        39\n",
      "   macro avg       0.59      0.61      0.54        39\n",
      "weighted avg       0.74      0.59      0.61        39\n",
      "\n"
     ]
    },
    {
     "name": "stderr",
     "output_type": "stream",
     "text": [
      "c:\\Users\\emmie\\anaconda3\\envs\\machinelearning\\Lib\\site-packages\\sklearn\\metrics\\_classification.py:1509: UndefinedMetricWarning: Precision is ill-defined and being set to 0.0 in labels with no predicted samples. Use `zero_division` parameter to control this behavior.\n",
      "  _warn_prf(average, modifier, f\"{metric.capitalize()} is\", len(result))\n",
      "c:\\Users\\emmie\\anaconda3\\envs\\machinelearning\\Lib\\site-packages\\sklearn\\metrics\\_classification.py:1509: UndefinedMetricWarning: Precision is ill-defined and being set to 0.0 in labels with no predicted samples. Use `zero_division` parameter to control this behavior.\n",
      "  _warn_prf(average, modifier, f\"{metric.capitalize()} is\", len(result))\n",
      "c:\\Users\\emmie\\anaconda3\\envs\\machinelearning\\Lib\\site-packages\\sklearn\\metrics\\_classification.py:1509: UndefinedMetricWarning: Precision is ill-defined and being set to 0.0 in labels with no predicted samples. Use `zero_division` parameter to control this behavior.\n",
      "  _warn_prf(average, modifier, f\"{metric.capitalize()} is\", len(result))\n"
     ]
    }
   ],
   "source": [
    "print(classification_report(y_test, y_pred))"
   ]
  },
  {
   "cell_type": "code",
   "execution_count": 333,
   "metadata": {
    "execution": {
     "iopub.execute_input": "2021-02-13T04:20:33.210678Z",
     "iopub.status.busy": "2021-02-13T04:20:33.209915Z",
     "iopub.status.idle": "2021-02-13T04:20:48.411447Z",
     "shell.execute_reply": "2021-02-13T04:20:48.411943Z"
    },
    "papermill": {
     "duration": 15.264991,
     "end_time": "2021-02-13T04:20:48.412126",
     "exception": false,
     "start_time": "2021-02-13T04:20:33.147135",
     "status": "completed"
    },
    "tags": []
   },
   "outputs": [
    {
     "data": {
      "text/plain": [
       "0.9487179487179487"
      ]
     },
     "execution_count": 333,
     "metadata": {},
     "output_type": "execute_result"
    }
   ],
   "source": [
    "from sklearn.ensemble import RandomForestClassifier  # applying random forest for classification\n",
    "from sklearn.metrics import accuracy_score\n",
    "rf_params = None\n",
    "\n",
    "rf = RandomForestClassifier()\n",
    "rf.fit(X_train,y_train)\n",
    "y_pred = rf.predict(X_test)\n",
    "y_pred_proba = rf.predict_proba(X_test)\n",
    "accuracy_score(y_test,y_pred)"
   ]
  },
  {
   "cell_type": "code",
   "execution_count": 334,
   "metadata": {},
   "outputs": [
    {
     "name": "stdout",
     "output_type": "stream",
     "text": [
      "[3. 3. 3. 3. 2. 2. 2. 2. 3. 4. 4. 4. 2. 2.]\n",
      "0.21428571428571427\n"
     ]
    }
   ],
   "source": [
    "# predict the mix movement serie with RF\n",
    "y_pred_mix = rf.predict(X_mix)\n",
    "print(y_pred_mix)\n",
    "accuracy_score(y_mix,y_pred_mix)\n",
    "df = pd.DataFrame(y_pred_mix)\n",
    "print(accuracy_score(y_mix,y_pred_mix))\n",
    "df.to_csv(r\"C:\\Users\\emmie\\Documents\\DTU\\Special course\\Code\\classification_kaggle\\our_input_subject2\\results_pca4.csv\", index=False, header=False)"
   ]
  },
  {
   "cell_type": "code",
   "execution_count": 335,
   "metadata": {
    "execution": {
     "iopub.execute_input": "2021-02-13T04:20:48.535970Z",
     "iopub.status.busy": "2021-02-13T04:20:48.534590Z",
     "iopub.status.idle": "2021-02-13T04:20:48.734598Z",
     "shell.execute_reply": "2021-02-13T04:20:48.734007Z"
    },
    "papermill": {
     "duration": 0.26501,
     "end_time": "2021-02-13T04:20:48.734722",
     "exception": false,
     "start_time": "2021-02-13T04:20:48.469712",
     "status": "completed"
    },
    "tags": []
   },
   "outputs": [
    {
     "data": {
      "image/png": "[encoded data removed]",
      "text/plain": [
       "<Figure size 600x600 with 1 Axes>"
      ]
     },
     "metadata": {},
     "output_type": "display_data"
    }
   ],
   "source": [
    "from sklearn.metrics import confusion_matrix\n",
    "\n",
    "cm = confusion_matrix(y_test, y_pred)\n",
    "\n",
    "plt.figure(figsize=(6, 6))\n",
    "sns.heatmap(cm, annot=True, fmt='g', cmap='Blues', cbar=False)\n",
    "plt.xlabel(\"Predicted\")\n",
    "plt.ylabel(\"Actual\")\n",
    "plt.title(\"Confusion Matrix for Random Forest Classifier\")\n",
    "plt.show()"
   ]
  },
  {
   "cell_type": "code",
   "execution_count": 336,
   "metadata": {},
   "outputs": [
    {
     "name": "stdout",
     "output_type": "stream",
     "text": [
      "              precision    recall  f1-score   support\n",
      "\n",
      "         0.0       1.00      1.00      1.00         7\n",
      "         1.0       1.00      1.00      1.00         2\n",
      "         2.0       0.88      1.00      0.93         7\n",
      "         3.0       1.00      0.90      0.95        10\n",
      "         4.0       1.00      1.00      1.00         4\n",
      "         5.0       0.88      1.00      0.93         7\n",
      "         6.0       1.00      0.50      0.67         2\n",
      "\n",
      "    accuracy                           0.95        39\n",
      "   macro avg       0.96      0.91      0.93        39\n",
      "weighted avg       0.96      0.95      0.95        39\n",
      "\n"
     ]
    }
   ],
   "source": [
    "from sklearn.metrics import classification_report\n",
    "print(classification_report(y_test, y_pred))"
   ]
  },
  {
   "cell_type": "code",
   "execution_count": 337,
   "metadata": {
    "execution": {
     "iopub.execute_input": "2021-02-13T04:20:48.857118Z",
     "iopub.status.busy": "2021-02-13T04:20:48.856381Z",
     "iopub.status.idle": "2021-02-13T04:21:20.081630Z",
     "shell.execute_reply": "2021-02-13T04:21:20.082206Z"
    },
    "papermill": {
     "duration": 31.289999,
     "end_time": "2021-02-13T04:21:20.082365",
     "exception": false,
     "start_time": "2021-02-13T04:20:48.792366",
     "status": "completed"
    },
    "tags": []
   },
   "outputs": [
    {
     "data": {
      "text/plain": [
       "0.9487179487179487"
      ]
     },
     "execution_count": 337,
     "metadata": {},
     "output_type": "execute_result"
    }
   ],
   "source": [
    "from catboost import CatBoostClassifier  # applying cat boost for classification\n",
    "\n",
    "cat=CatBoostClassifier(silent=True).fit(X_train,y_train)\n",
    "\n",
    "y_pred=cat.predict(X_test)\n",
    "y_pred_proba = cat.predict_proba(X_test)\n",
    "accuracy_score(y_test,y_pred)"
   ]
  },
  {
   "cell_type": "code",
   "execution_count": 338,
   "metadata": {
    "execution": {
     "iopub.execute_input": "2021-02-13T04:21:20.206868Z",
     "iopub.status.busy": "2021-02-13T04:21:20.205779Z",
     "iopub.status.idle": "2021-02-13T04:21:20.391151Z",
     "shell.execute_reply": "2021-02-13T04:21:20.390558Z"
    },
    "papermill": {
     "duration": 0.250661,
     "end_time": "2021-02-13T04:21:20.391269",
     "exception": false,
     "start_time": "2021-02-13T04:21:20.140608",
     "status": "completed"
    },
    "tags": []
   },
   "outputs": [
    {
     "data": {
      "image/png": "[encoded data removed]",
      "text/plain": [
       "<Figure size 600x600 with 1 Axes>"
      ]
     },
     "metadata": {},
     "output_type": "display_data"
    }
   ],
   "source": [
    "cm = confusion_matrix(y_test, y_pred)\n",
    "\n",
    "plt.figure(figsize=(6, 6))\n",
    "sns.heatmap(cm, annot=True, fmt='g', cmap='Blues', cbar=False)\n",
    "plt.xlabel(\"Predicted\")\n",
    "plt.ylabel(\"Actual\")\n",
    "plt.title(\"Confusion Matrix for CatBoost Classifier\")\n",
    "plt.show()\n"
   ]
  },
  {
   "cell_type": "code",
   "execution_count": 339,
   "metadata": {
    "papermill": {
     "duration": 0.058811,
     "end_time": "2021-02-13T04:21:20.509417",
     "exception": false,
     "start_time": "2021-02-13T04:21:20.450606",
     "status": "completed"
    },
    "tags": []
   },
   "outputs": [
    {
     "name": "stdout",
     "output_type": "stream",
     "text": [
      "              precision    recall  f1-score   support\n",
      "\n",
      "         0.0       1.00      1.00      1.00         7\n",
      "         1.0       1.00      1.00      1.00         2\n",
      "         2.0       0.88      1.00      0.93         7\n",
      "         3.0       1.00      0.90      0.95        10\n",
      "         4.0       1.00      1.00      1.00         4\n",
      "         5.0       0.88      1.00      0.93         7\n",
      "         6.0       1.00      0.50      0.67         2\n",
      "\n",
      "    accuracy                           0.95        39\n",
      "   macro avg       0.96      0.91      0.93        39\n",
      "weighted avg       0.96      0.95      0.95        39\n",
      "\n"
     ]
    }
   ],
   "source": [
    "print(classification_report(y_test, y_pred))"
   ]
  },
  {
   "cell_type": "code",
   "execution_count": 340,
   "metadata": {
    "papermill": {
     "duration": 0.059034,
     "end_time": "2021-02-13T04:21:20.627900",
     "exception": false,
     "start_time": "2021-02-13T04:21:20.568866",
     "status": "completed"
    },
    "tags": []
   },
   "outputs": [
    {
     "name": "stdout",
     "output_type": "stream",
     "text": [
      "[[3.]\n",
      " [3.]\n",
      " [3.]\n",
      " [3.]\n",
      " [2.]\n",
      " [2.]\n",
      " [2.]\n",
      " [2.]\n",
      " [3.]\n",
      " [3.]\n",
      " [3.]\n",
      " [4.]\n",
      " [2.]\n",
      " [2.]]\n",
      "0.14285714285714285\n"
     ]
    }
   ],
   "source": [
    "# predict the mix movement serie with CatBoost\n",
    "y_pred_mix = cat.predict(X_mix)\n",
    "print(y_pred_mix)\n",
    "accuracy_score(y_mix,y_pred_mix)\n",
    "df = pd.DataFrame(y_pred_mix)\n",
    "print(accuracy_score(y_mix,y_pred_mix))\n",
    "df.to_csv(r\"C:\\Users\\emmie\\Documents\\DTU\\Special course\\Code\\classification_kaggle\\our_input_subject2\\results_pca4.csv\", index=False, header=False)"
   ]
  }
 ],
 "metadata": {
  "kernelspec": {
   "display_name": "Python 3",
   "language": "python",
   "name": "python3"
  },
  "language_info": {
   "codemirror_mode": {
    "name": "ipython",
    "version": 3
   },
   "file_extension": ".py",
   "mimetype": "text/x-python",
   "name": "python",
   "nbconvert_exporter": "python",
   "pygments_lexer": "ipython3",
   "version": "3.12.3"
  },
  "papermill": {
   "duration": 167.041675,
   "end_time": "2021-02-13T04:21:20.795695",
   "environment_variables": {},
   "exception": null,
   "input_path": "__notebook__.ipynb",
   "output_path": "__notebook__.ipynb",
   "parameters": {},
   "start_time": "2021-02-13T04:18:33.754020",
   "version": "2.1.0"
  }
 },
 "nbformat": 4,
 "nbformat_minor": 4
}
